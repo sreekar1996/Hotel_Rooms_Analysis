{
 "cells": [
  {
   "cell_type": "code",
   "execution_count": 1,
   "metadata": {},
   "outputs": [],
   "source": [
    "import numpy as np\n",
    "import pandas as pd\n",
    "import matplotlib as plt"
   ]
  },
  {
   "cell_type": "code",
   "execution_count": 2,
   "metadata": {},
   "outputs": [],
   "source": [
    "train=pd.read_csv(\"train.csv\")"
   ]
  },
  {
   "cell_type": "code",
   "execution_count": 3,
   "metadata": {},
   "outputs": [
    {
     "data": {
      "text/plain": [
       "(30000, 54)"
      ]
     },
     "execution_count": 3,
     "metadata": {},
     "output_type": "execute_result"
    }
   ],
   "source": [
    "train.shape"
   ]
  },
  {
   "cell_type": "code",
   "execution_count": 4,
   "metadata": {},
   "outputs": [
    {
     "data": {
      "text/html": [
       "<div>\n",
       "<style scoped>\n",
       "    .dataframe tbody tr th:only-of-type {\n",
       "        vertical-align: middle;\n",
       "    }\n",
       "\n",
       "    .dataframe tbody tr th {\n",
       "        vertical-align: top;\n",
       "    }\n",
       "\n",
       "    .dataframe thead th {\n",
       "        text-align: right;\n",
       "    }\n",
       "</style>\n",
       "<table border=\"1\" class=\"dataframe\">\n",
       "  <thead>\n",
       "    <tr style=\"text-align: right;\">\n",
       "      <th></th>\n",
       "      <th>0</th>\n",
       "      <th>host_since</th>\n",
       "      <th>host_response_time</th>\n",
       "      <th>host_response_rate</th>\n",
       "      <th>host_acceptance_rate</th>\n",
       "      <th>host_is_superhost</th>\n",
       "      <th>host_total_listings_count</th>\n",
       "      <th>host_verifications</th>\n",
       "      <th>host_has_profile_pic</th>\n",
       "      <th>host_identity_verified</th>\n",
       "      <th>...</th>\n",
       "      <th>review_scores_location</th>\n",
       "      <th>review_scores_value</th>\n",
       "      <th>instant_bookable</th>\n",
       "      <th>cancellation_policy</th>\n",
       "      <th>require_guest_profile_picture</th>\n",
       "      <th>require_guest_phone_verification</th>\n",
       "      <th>reviews_per_month</th>\n",
       "      <th>price</th>\n",
       "      <th>guests_included</th>\n",
       "      <th>extra_people</th>\n",
       "    </tr>\n",
       "  </thead>\n",
       "  <tbody>\n",
       "    <tr>\n",
       "      <th>0</th>\n",
       "      <td>1</td>\n",
       "      <td>2011-03-09</td>\n",
       "      <td>NaN</td>\n",
       "      <td>NaN</td>\n",
       "      <td>NaN</td>\n",
       "      <td>f</td>\n",
       "      <td>1.0</td>\n",
       "      <td>['email', 'phone', 'facebook', 'reviews', 'kba']</td>\n",
       "      <td>t</td>\n",
       "      <td>t</td>\n",
       "      <td>...</td>\n",
       "      <td>10.0</td>\n",
       "      <td>10.0</td>\n",
       "      <td>f</td>\n",
       "      <td>moderate</td>\n",
       "      <td>f</td>\n",
       "      <td>f</td>\n",
       "      <td>0.09</td>\n",
       "      <td>$175.00</td>\n",
       "      <td>1</td>\n",
       "      <td>$0.00</td>\n",
       "    </tr>\n",
       "    <tr>\n",
       "      <th>1</th>\n",
       "      <td>2</td>\n",
       "      <td>2013-11-17</td>\n",
       "      <td>NaN</td>\n",
       "      <td>NaN</td>\n",
       "      <td>NaN</td>\n",
       "      <td>f</td>\n",
       "      <td>1.0</td>\n",
       "      <td>['email', 'phone', 'facebook', 'reviews', 'jum...</td>\n",
       "      <td>t</td>\n",
       "      <td>t</td>\n",
       "      <td>...</td>\n",
       "      <td>NaN</td>\n",
       "      <td>NaN</td>\n",
       "      <td>f</td>\n",
       "      <td>moderate</td>\n",
       "      <td>f</td>\n",
       "      <td>f</td>\n",
       "      <td>NaN</td>\n",
       "      <td>$50.00</td>\n",
       "      <td>1</td>\n",
       "      <td>$0.00</td>\n",
       "    </tr>\n",
       "    <tr>\n",
       "      <th>2</th>\n",
       "      <td>3</td>\n",
       "      <td>2012-12-06</td>\n",
       "      <td>within an hour</td>\n",
       "      <td>98%</td>\n",
       "      <td>100%</td>\n",
       "      <td>f</td>\n",
       "      <td>7.0</td>\n",
       "      <td>['email', 'phone', 'google', 'linkedin', 'revi...</td>\n",
       "      <td>t</td>\n",
       "      <td>t</td>\n",
       "      <td>...</td>\n",
       "      <td>9.0</td>\n",
       "      <td>9.0</td>\n",
       "      <td>t</td>\n",
       "      <td>strict</td>\n",
       "      <td>f</td>\n",
       "      <td>f</td>\n",
       "      <td>0.84</td>\n",
       "      <td>$28.00</td>\n",
       "      <td>1</td>\n",
       "      <td>$0.00</td>\n",
       "    </tr>\n",
       "    <tr>\n",
       "      <th>3</th>\n",
       "      <td>4</td>\n",
       "      <td>2014-01-10</td>\n",
       "      <td>within an hour</td>\n",
       "      <td>100%</td>\n",
       "      <td>100%</td>\n",
       "      <td>t</td>\n",
       "      <td>1.0</td>\n",
       "      <td>['email', 'phone', 'reviews', 'kba']</td>\n",
       "      <td>t</td>\n",
       "      <td>t</td>\n",
       "      <td>...</td>\n",
       "      <td>9.0</td>\n",
       "      <td>10.0</td>\n",
       "      <td>f</td>\n",
       "      <td>moderate</td>\n",
       "      <td>f</td>\n",
       "      <td>f</td>\n",
       "      <td>2.39</td>\n",
       "      <td>$90.00</td>\n",
       "      <td>2</td>\n",
       "      <td>$0.00</td>\n",
       "    </tr>\n",
       "    <tr>\n",
       "      <th>4</th>\n",
       "      <td>5</td>\n",
       "      <td>2013-05-14</td>\n",
       "      <td>within an hour</td>\n",
       "      <td>100%</td>\n",
       "      <td>33%</td>\n",
       "      <td>f</td>\n",
       "      <td>1.0</td>\n",
       "      <td>['email', 'phone', 'facebook', 'reviews', 'man...</td>\n",
       "      <td>t</td>\n",
       "      <td>t</td>\n",
       "      <td>...</td>\n",
       "      <td>NaN</td>\n",
       "      <td>NaN</td>\n",
       "      <td>t</td>\n",
       "      <td>flexible</td>\n",
       "      <td>f</td>\n",
       "      <td>f</td>\n",
       "      <td>NaN</td>\n",
       "      <td>$108.00</td>\n",
       "      <td>1</td>\n",
       "      <td>$0.00</td>\n",
       "    </tr>\n",
       "  </tbody>\n",
       "</table>\n",
       "<p>5 rows × 54 columns</p>\n",
       "</div>"
      ],
      "text/plain": [
       "   0  host_since host_response_time host_response_rate host_acceptance_rate  \\\n",
       "0  1  2011-03-09                NaN                NaN                  NaN   \n",
       "1  2  2013-11-17                NaN                NaN                  NaN   \n",
       "2  3  2012-12-06     within an hour                98%                 100%   \n",
       "3  4  2014-01-10     within an hour               100%                 100%   \n",
       "4  5  2013-05-14     within an hour               100%                  33%   \n",
       "\n",
       "  host_is_superhost  host_total_listings_count  \\\n",
       "0                 f                        1.0   \n",
       "1                 f                        1.0   \n",
       "2                 f                        7.0   \n",
       "3                 t                        1.0   \n",
       "4                 f                        1.0   \n",
       "\n",
       "                                  host_verifications host_has_profile_pic  \\\n",
       "0   ['email', 'phone', 'facebook', 'reviews', 'kba']                    t   \n",
       "1  ['email', 'phone', 'facebook', 'reviews', 'jum...                    t   \n",
       "2  ['email', 'phone', 'google', 'linkedin', 'revi...                    t   \n",
       "3               ['email', 'phone', 'reviews', 'kba']                    t   \n",
       "4  ['email', 'phone', 'facebook', 'reviews', 'man...                    t   \n",
       "\n",
       "  host_identity_verified  ... review_scores_location review_scores_value  \\\n",
       "0                      t  ...                   10.0                10.0   \n",
       "1                      t  ...                    NaN                 NaN   \n",
       "2                      t  ...                    9.0                 9.0   \n",
       "3                      t  ...                    9.0                10.0   \n",
       "4                      t  ...                    NaN                 NaN   \n",
       "\n",
       "  instant_bookable cancellation_policy require_guest_profile_picture  \\\n",
       "0                f            moderate                             f   \n",
       "1                f            moderate                             f   \n",
       "2                t              strict                             f   \n",
       "3                f            moderate                             f   \n",
       "4                t            flexible                             f   \n",
       "\n",
       "  require_guest_phone_verification reviews_per_month    price  \\\n",
       "0                                f              0.09  $175.00   \n",
       "1                                f               NaN   $50.00   \n",
       "2                                f              0.84   $28.00   \n",
       "3                                f              2.39   $90.00   \n",
       "4                                f               NaN  $108.00   \n",
       "\n",
       "   guests_included  extra_people  \n",
       "0                1         $0.00  \n",
       "1                1         $0.00  \n",
       "2                1         $0.00  \n",
       "3                2         $0.00  \n",
       "4                1         $0.00  \n",
       "\n",
       "[5 rows x 54 columns]"
      ]
     },
     "execution_count": 4,
     "metadata": {},
     "output_type": "execute_result"
    }
   ],
   "source": [
    "train.head()"
   ]
  },
  {
   "cell_type": "code",
   "execution_count": 5,
   "metadata": {},
   "outputs": [],
   "source": [
    "#round((train.isnull().sum()/train.shape[0]) * 100,2)"
   ]
  },
  {
   "cell_type": "code",
   "execution_count": 6,
   "metadata": {},
   "outputs": [
    {
     "data": {
      "text/plain": [
       "0                                       0\n",
       "host_since                              3\n",
       "host_response_time                   6727\n",
       "host_response_rate                   6727\n",
       "host_acceptance_rate                 8131\n",
       "host_is_superhost                       3\n",
       "host_total_listings_count               3\n",
       "host_verifications                      0\n",
       "host_has_profile_pic                    3\n",
       "host_identity_verified                  3\n",
       "street                                  0\n",
       "neighbourhood_cleansed                  0\n",
       "neighbourhood_group_cleansed            0\n",
       "city                                   40\n",
       "state                                   1\n",
       "zipcode                               237\n",
       "market                                681\n",
       "smart_location                          0\n",
       "latitude                                0\n",
       "longitude                               0\n",
       "is_location_exact                       0\n",
       "property_type                           1\n",
       "room_type                               0\n",
       "accommodates                            0\n",
       "bathrooms                             182\n",
       "bedrooms                               54\n",
       "beds                                   49\n",
       "bed_type                                0\n",
       "amenities                               0\n",
       "square_feet                         29453\n",
       "security_deposit                    16480\n",
       "cleaning_fee                         9656\n",
       "minimum_nights                          0\n",
       "calendar_updated                        0\n",
       "availability_30                         0\n",
       "availability_60                         0\n",
       "availability_90                         0\n",
       "availability_365                        0\n",
       "number_of_reviews                       0\n",
       "review_scores_rating                 8008\n",
       "review_scores_accuracy               8108\n",
       "review_scores_cleanliness            8071\n",
       "review_scores_checkin                8106\n",
       "review_scores_communication          8060\n",
       "review_scores_location               8097\n",
       "review_scores_value                  8097\n",
       "instant_bookable                        0\n",
       "cancellation_policy                     0\n",
       "require_guest_profile_picture           0\n",
       "require_guest_phone_verification        0\n",
       "reviews_per_month                    7439\n",
       "price                                   0\n",
       "guests_included                         0\n",
       "extra_people                            0\n",
       "dtype: int64"
      ]
     },
     "execution_count": 6,
     "metadata": {},
     "output_type": "execute_result"
    }
   ],
   "source": [
    "train.isnull().sum()"
   ]
  },
  {
   "cell_type": "code",
   "execution_count": 7,
   "metadata": {},
   "outputs": [
    {
     "data": {
      "text/plain": [
       "array([nan, 'within an hour', 'a few days or more', 'within a few hours',\n",
       "       'within a day'], dtype=object)"
      ]
     },
     "execution_count": 7,
     "metadata": {},
     "output_type": "execute_result"
    }
   ],
   "source": [
    "train[\"host_response_time\"].unique()"
   ]
  },
  {
   "cell_type": "code",
   "execution_count": 8,
   "metadata": {},
   "outputs": [],
   "source": [
    "train=train.drop([\"city\",\"state\",\"zipcode\"],1)"
   ]
  },
  {
   "cell_type": "code",
   "execution_count": 9,
   "metadata": {},
   "outputs": [],
   "source": [
    "train[\"price\"]=train[\"price\"].apply(lambda x : x[1:])"
   ]
  },
  {
   "cell_type": "code",
   "execution_count": 10,
   "metadata": {},
   "outputs": [],
   "source": [
    "train[\"price\"]=train[\"price\"].apply(lambda x : x.replace(',', ''))"
   ]
  },
  {
   "cell_type": "code",
   "execution_count": 11,
   "metadata": {},
   "outputs": [],
   "source": [
    "train[\"price\"]=train[\"price\"].astype(float)"
   ]
  },
  {
   "cell_type": "code",
   "execution_count": 12,
   "metadata": {},
   "outputs": [],
   "source": [
    "#train.groupby(\"city\").price.median()"
   ]
  },
  {
   "cell_type": "code",
   "execution_count": 13,
   "metadata": {},
   "outputs": [],
   "source": [
    "#train[\"host_response_time\"].value_counts().plot(kind=\"bar\")"
   ]
  },
  {
   "cell_type": "code",
   "execution_count": 14,
   "metadata": {},
   "outputs": [],
   "source": [
    "train[\"host_response_time\"]=train[\"host_response_time\"].replace(\"nan\" , np.NaN)"
   ]
  },
  {
   "cell_type": "code",
   "execution_count": 15,
   "metadata": {},
   "outputs": [],
   "source": [
    "#train[\"host_response_time\"] = train[\"host_response_time\"].fillna(train[\"host_response_time\"].mode())"
   ]
  },
  {
   "cell_type": "code",
   "execution_count": 16,
   "metadata": {},
   "outputs": [
    {
     "data": {
      "text/plain": [
       "6727"
      ]
     },
     "execution_count": 16,
     "metadata": {},
     "output_type": "execute_result"
    }
   ],
   "source": [
    "train[\"host_response_time\"].isnull().sum()"
   ]
  },
  {
   "cell_type": "code",
   "execution_count": 17,
   "metadata": {},
   "outputs": [
    {
     "data": {
      "text/plain": [
       "0                                       0\n",
       "host_since                              3\n",
       "host_response_time                   6727\n",
       "host_response_rate                   6727\n",
       "host_acceptance_rate                 8131\n",
       "host_is_superhost                       3\n",
       "host_total_listings_count               3\n",
       "host_verifications                      0\n",
       "host_has_profile_pic                    3\n",
       "host_identity_verified                  3\n",
       "street                                  0\n",
       "neighbourhood_cleansed                  0\n",
       "neighbourhood_group_cleansed            0\n",
       "market                                681\n",
       "smart_location                          0\n",
       "latitude                                0\n",
       "longitude                               0\n",
       "is_location_exact                       0\n",
       "property_type                           1\n",
       "room_type                               0\n",
       "accommodates                            0\n",
       "bathrooms                             182\n",
       "bedrooms                               54\n",
       "beds                                   49\n",
       "bed_type                                0\n",
       "amenities                               0\n",
       "square_feet                         29453\n",
       "security_deposit                    16480\n",
       "cleaning_fee                         9656\n",
       "minimum_nights                          0\n",
       "calendar_updated                        0\n",
       "availability_30                         0\n",
       "availability_60                         0\n",
       "availability_90                         0\n",
       "availability_365                        0\n",
       "number_of_reviews                       0\n",
       "review_scores_rating                 8008\n",
       "review_scores_accuracy               8108\n",
       "review_scores_cleanliness            8071\n",
       "review_scores_checkin                8106\n",
       "review_scores_communication          8060\n",
       "review_scores_location               8097\n",
       "review_scores_value                  8097\n",
       "instant_bookable                        0\n",
       "cancellation_policy                     0\n",
       "require_guest_profile_picture           0\n",
       "require_guest_phone_verification        0\n",
       "reviews_per_month                    7439\n",
       "price                                   0\n",
       "guests_included                         0\n",
       "extra_people                            0\n",
       "dtype: int64"
      ]
     },
     "execution_count": 17,
     "metadata": {},
     "output_type": "execute_result"
    }
   ],
   "source": [
    "#data['smokingstatus'].fillna(data['smokingstatus'].value_counts().index[0],inplace=True)\n",
    "train.isnull().sum().T"
   ]
  },
  {
   "cell_type": "code",
   "execution_count": 18,
   "metadata": {},
   "outputs": [],
   "source": [
    "train[\"host_response_time\"].fillna(train[\"host_response_time\"].value_counts().index[0],inplace=True)"
   ]
  },
  {
   "cell_type": "code",
   "execution_count": 19,
   "metadata": {},
   "outputs": [],
   "source": [
    "def mappy(x):\n",
    "    if x!= np.NaN:\n",
    "        return x[:-1]\n",
    "    else:\n",
    "        return x"
   ]
  },
  {
   "cell_type": "code",
   "execution_count": 20,
   "metadata": {},
   "outputs": [
    {
     "data": {
      "text/plain": [
       "'sre'"
      ]
     },
     "execution_count": 20,
     "metadata": {},
     "output_type": "execute_result"
    }
   ],
   "source": [
    "mappy('sree')"
   ]
  },
  {
   "cell_type": "code",
   "execution_count": 21,
   "metadata": {},
   "outputs": [],
   "source": [
    "train[\"host_response_rate\"]=train[\"host_response_rate\"].astype(str)"
   ]
  },
  {
   "cell_type": "code",
   "execution_count": 22,
   "metadata": {},
   "outputs": [],
   "source": [
    "train[\"host_response_rate\"]=train[\"host_response_rate\"].apply(lambda x : x.replace('%', ''))"
   ]
  },
  {
   "cell_type": "code",
   "execution_count": 23,
   "metadata": {},
   "outputs": [
    {
     "data": {
      "text/html": [
       "<div>\n",
       "<style scoped>\n",
       "    .dataframe tbody tr th:only-of-type {\n",
       "        vertical-align: middle;\n",
       "    }\n",
       "\n",
       "    .dataframe tbody tr th {\n",
       "        vertical-align: top;\n",
       "    }\n",
       "\n",
       "    .dataframe thead th {\n",
       "        text-align: right;\n",
       "    }\n",
       "</style>\n",
       "<table border=\"1\" class=\"dataframe\">\n",
       "  <thead>\n",
       "    <tr style=\"text-align: right;\">\n",
       "      <th></th>\n",
       "      <th>0</th>\n",
       "      <th>host_since</th>\n",
       "      <th>host_response_time</th>\n",
       "      <th>host_response_rate</th>\n",
       "      <th>host_acceptance_rate</th>\n",
       "      <th>host_is_superhost</th>\n",
       "      <th>host_total_listings_count</th>\n",
       "      <th>host_verifications</th>\n",
       "      <th>host_has_profile_pic</th>\n",
       "      <th>host_identity_verified</th>\n",
       "      <th>...</th>\n",
       "      <th>review_scores_location</th>\n",
       "      <th>review_scores_value</th>\n",
       "      <th>instant_bookable</th>\n",
       "      <th>cancellation_policy</th>\n",
       "      <th>require_guest_profile_picture</th>\n",
       "      <th>require_guest_phone_verification</th>\n",
       "      <th>reviews_per_month</th>\n",
       "      <th>price</th>\n",
       "      <th>guests_included</th>\n",
       "      <th>extra_people</th>\n",
       "    </tr>\n",
       "  </thead>\n",
       "  <tbody>\n",
       "    <tr>\n",
       "      <th>0</th>\n",
       "      <td>1</td>\n",
       "      <td>2011-03-09</td>\n",
       "      <td>within an hour</td>\n",
       "      <td>nan</td>\n",
       "      <td>NaN</td>\n",
       "      <td>f</td>\n",
       "      <td>1.0</td>\n",
       "      <td>['email', 'phone', 'facebook', 'reviews', 'kba']</td>\n",
       "      <td>t</td>\n",
       "      <td>t</td>\n",
       "      <td>...</td>\n",
       "      <td>10.0</td>\n",
       "      <td>10.0</td>\n",
       "      <td>f</td>\n",
       "      <td>moderate</td>\n",
       "      <td>f</td>\n",
       "      <td>f</td>\n",
       "      <td>0.09</td>\n",
       "      <td>175.0</td>\n",
       "      <td>1</td>\n",
       "      <td>$0.00</td>\n",
       "    </tr>\n",
       "    <tr>\n",
       "      <th>1</th>\n",
       "      <td>2</td>\n",
       "      <td>2013-11-17</td>\n",
       "      <td>within an hour</td>\n",
       "      <td>nan</td>\n",
       "      <td>NaN</td>\n",
       "      <td>f</td>\n",
       "      <td>1.0</td>\n",
       "      <td>['email', 'phone', 'facebook', 'reviews', 'jum...</td>\n",
       "      <td>t</td>\n",
       "      <td>t</td>\n",
       "      <td>...</td>\n",
       "      <td>NaN</td>\n",
       "      <td>NaN</td>\n",
       "      <td>f</td>\n",
       "      <td>moderate</td>\n",
       "      <td>f</td>\n",
       "      <td>f</td>\n",
       "      <td>NaN</td>\n",
       "      <td>50.0</td>\n",
       "      <td>1</td>\n",
       "      <td>$0.00</td>\n",
       "    </tr>\n",
       "    <tr>\n",
       "      <th>2</th>\n",
       "      <td>3</td>\n",
       "      <td>2012-12-06</td>\n",
       "      <td>within an hour</td>\n",
       "      <td>98</td>\n",
       "      <td>100%</td>\n",
       "      <td>f</td>\n",
       "      <td>7.0</td>\n",
       "      <td>['email', 'phone', 'google', 'linkedin', 'revi...</td>\n",
       "      <td>t</td>\n",
       "      <td>t</td>\n",
       "      <td>...</td>\n",
       "      <td>9.0</td>\n",
       "      <td>9.0</td>\n",
       "      <td>t</td>\n",
       "      <td>strict</td>\n",
       "      <td>f</td>\n",
       "      <td>f</td>\n",
       "      <td>0.84</td>\n",
       "      <td>28.0</td>\n",
       "      <td>1</td>\n",
       "      <td>$0.00</td>\n",
       "    </tr>\n",
       "    <tr>\n",
       "      <th>3</th>\n",
       "      <td>4</td>\n",
       "      <td>2014-01-10</td>\n",
       "      <td>within an hour</td>\n",
       "      <td>100</td>\n",
       "      <td>100%</td>\n",
       "      <td>t</td>\n",
       "      <td>1.0</td>\n",
       "      <td>['email', 'phone', 'reviews', 'kba']</td>\n",
       "      <td>t</td>\n",
       "      <td>t</td>\n",
       "      <td>...</td>\n",
       "      <td>9.0</td>\n",
       "      <td>10.0</td>\n",
       "      <td>f</td>\n",
       "      <td>moderate</td>\n",
       "      <td>f</td>\n",
       "      <td>f</td>\n",
       "      <td>2.39</td>\n",
       "      <td>90.0</td>\n",
       "      <td>2</td>\n",
       "      <td>$0.00</td>\n",
       "    </tr>\n",
       "    <tr>\n",
       "      <th>4</th>\n",
       "      <td>5</td>\n",
       "      <td>2013-05-14</td>\n",
       "      <td>within an hour</td>\n",
       "      <td>100</td>\n",
       "      <td>33%</td>\n",
       "      <td>f</td>\n",
       "      <td>1.0</td>\n",
       "      <td>['email', 'phone', 'facebook', 'reviews', 'man...</td>\n",
       "      <td>t</td>\n",
       "      <td>t</td>\n",
       "      <td>...</td>\n",
       "      <td>NaN</td>\n",
       "      <td>NaN</td>\n",
       "      <td>t</td>\n",
       "      <td>flexible</td>\n",
       "      <td>f</td>\n",
       "      <td>f</td>\n",
       "      <td>NaN</td>\n",
       "      <td>108.0</td>\n",
       "      <td>1</td>\n",
       "      <td>$0.00</td>\n",
       "    </tr>\n",
       "  </tbody>\n",
       "</table>\n",
       "<p>5 rows × 51 columns</p>\n",
       "</div>"
      ],
      "text/plain": [
       "   0  host_since host_response_time host_response_rate host_acceptance_rate  \\\n",
       "0  1  2011-03-09     within an hour                nan                  NaN   \n",
       "1  2  2013-11-17     within an hour                nan                  NaN   \n",
       "2  3  2012-12-06     within an hour                 98                 100%   \n",
       "3  4  2014-01-10     within an hour                100                 100%   \n",
       "4  5  2013-05-14     within an hour                100                  33%   \n",
       "\n",
       "  host_is_superhost  host_total_listings_count  \\\n",
       "0                 f                        1.0   \n",
       "1                 f                        1.0   \n",
       "2                 f                        7.0   \n",
       "3                 t                        1.0   \n",
       "4                 f                        1.0   \n",
       "\n",
       "                                  host_verifications host_has_profile_pic  \\\n",
       "0   ['email', 'phone', 'facebook', 'reviews', 'kba']                    t   \n",
       "1  ['email', 'phone', 'facebook', 'reviews', 'jum...                    t   \n",
       "2  ['email', 'phone', 'google', 'linkedin', 'revi...                    t   \n",
       "3               ['email', 'phone', 'reviews', 'kba']                    t   \n",
       "4  ['email', 'phone', 'facebook', 'reviews', 'man...                    t   \n",
       "\n",
       "  host_identity_verified  ... review_scores_location review_scores_value  \\\n",
       "0                      t  ...                   10.0                10.0   \n",
       "1                      t  ...                    NaN                 NaN   \n",
       "2                      t  ...                    9.0                 9.0   \n",
       "3                      t  ...                    9.0                10.0   \n",
       "4                      t  ...                    NaN                 NaN   \n",
       "\n",
       "  instant_bookable cancellation_policy require_guest_profile_picture  \\\n",
       "0                f            moderate                             f   \n",
       "1                f            moderate                             f   \n",
       "2                t              strict                             f   \n",
       "3                f            moderate                             f   \n",
       "4                t            flexible                             f   \n",
       "\n",
       "   require_guest_phone_verification  reviews_per_month  price guests_included  \\\n",
       "0                                 f               0.09  175.0               1   \n",
       "1                                 f                NaN   50.0               1   \n",
       "2                                 f               0.84   28.0               1   \n",
       "3                                 f               2.39   90.0               2   \n",
       "4                                 f                NaN  108.0               1   \n",
       "\n",
       "  extra_people  \n",
       "0        $0.00  \n",
       "1        $0.00  \n",
       "2        $0.00  \n",
       "3        $0.00  \n",
       "4        $0.00  \n",
       "\n",
       "[5 rows x 51 columns]"
      ]
     },
     "execution_count": 23,
     "metadata": {},
     "output_type": "execute_result"
    }
   ],
   "source": [
    "train.head()"
   ]
  },
  {
   "cell_type": "code",
   "execution_count": 24,
   "metadata": {},
   "outputs": [],
   "source": [
    "train[\"host_response_rate\"]=train[\"host_response_rate\"].replace(\"nan\" , np.NaN)"
   ]
  },
  {
   "cell_type": "code",
   "execution_count": 25,
   "metadata": {},
   "outputs": [],
   "source": [
    "train[\"host_response_rate\"]=train[\"host_response_rate\"].astype(float)"
   ]
  },
  {
   "cell_type": "code",
   "execution_count": 26,
   "metadata": {},
   "outputs": [],
   "source": [
    "train[\"host_response_rate\"]=train[\"host_response_rate\"].fillna(train[\"host_response_rate\"].median())"
   ]
  },
  {
   "cell_type": "code",
   "execution_count": 27,
   "metadata": {},
   "outputs": [],
   "source": [
    "#train[\"host_response_rate\"].value_counts()"
   ]
  },
  {
   "cell_type": "code",
   "execution_count": 28,
   "metadata": {},
   "outputs": [],
   "source": [
    "train[\"host_acceptance_rate\"]=train[\"host_acceptance_rate\"].astype(str)"
   ]
  },
  {
   "cell_type": "code",
   "execution_count": 29,
   "metadata": {},
   "outputs": [],
   "source": [
    "train[\"host_acceptance_rate\"]=train[\"host_acceptance_rate\"].apply(lambda x : x.replace('%', ''))"
   ]
  },
  {
   "cell_type": "code",
   "execution_count": 30,
   "metadata": {},
   "outputs": [],
   "source": [
    "train[\"host_acceptance_rate\"]=train[\"host_acceptance_rate\"].replace(\"nan\" , np.NaN)"
   ]
  },
  {
   "cell_type": "code",
   "execution_count": 31,
   "metadata": {},
   "outputs": [],
   "source": [
    "train[\"host_acceptance_rate\"]=train[\"host_acceptance_rate\"].astype(float)"
   ]
  },
  {
   "cell_type": "code",
   "execution_count": 32,
   "metadata": {},
   "outputs": [],
   "source": [
    "train[\"host_acceptance_rate\"].fillna(train[\"host_acceptance_rate\"].median(),inplace=True)"
   ]
  },
  {
   "cell_type": "code",
   "execution_count": null,
   "metadata": {},
   "outputs": [],
   "source": []
  },
  {
   "cell_type": "code",
   "execution_count": 33,
   "metadata": {},
   "outputs": [
    {
     "data": {
      "text/plain": [
       "array(['f', 't', nan], dtype=object)"
      ]
     },
     "execution_count": 33,
     "metadata": {},
     "output_type": "execute_result"
    }
   ],
   "source": [
    "train[\"host_is_superhost\"].unique()"
   ]
  },
  {
   "cell_type": "code",
   "execution_count": 34,
   "metadata": {},
   "outputs": [
    {
     "data": {
      "text/plain": [
       "f    28518\n",
       "t     1479\n",
       "Name: host_is_superhost, dtype: int64"
      ]
     },
     "execution_count": 34,
     "metadata": {},
     "output_type": "execute_result"
    }
   ],
   "source": [
    "train[\"host_is_superhost\"].value_counts()"
   ]
  },
  {
   "cell_type": "code",
   "execution_count": 35,
   "metadata": {},
   "outputs": [],
   "source": [
    "train[\"host_is_superhost\"].fillna('f',inplace=True)"
   ]
  },
  {
   "cell_type": "code",
   "execution_count": 36,
   "metadata": {},
   "outputs": [],
   "source": [
    "train[\"host_total_listings_count\"].fillna(1,inplace=True)"
   ]
  },
  {
   "cell_type": "code",
   "execution_count": 37,
   "metadata": {},
   "outputs": [],
   "source": [
    "#train[\"host_verifications\"].value_counts()"
   ]
  },
  {
   "cell_type": "code",
   "execution_count": null,
   "metadata": {},
   "outputs": [],
   "source": []
  },
  {
   "cell_type": "code",
   "execution_count": 38,
   "metadata": {},
   "outputs": [],
   "source": [
    "def check(x):\n",
    "    if \"facebook\" in x:\n",
    "        return 1\n",
    "    else:\n",
    "        return 0"
   ]
  },
  {
   "cell_type": "code",
   "execution_count": 39,
   "metadata": {},
   "outputs": [],
   "source": [
    "train[\"facebook_veri\"]=train[\"host_verifications\"].apply(lambda x : check(x))"
   ]
  },
  {
   "cell_type": "code",
   "execution_count": null,
   "metadata": {},
   "outputs": [],
   "source": []
  },
  {
   "cell_type": "code",
   "execution_count": 40,
   "metadata": {},
   "outputs": [],
   "source": [
    "def check_kba(x):\n",
    "    if \"kba\" in x:\n",
    "        return 1\n",
    "    else:\n",
    "        return 0\n",
    "def check_phone(x):\n",
    "    if \"phone\" in x:\n",
    "        return 1\n",
    "    else:\n",
    "        return 0    \n",
    "def check_email(x):\n",
    "    if \"email\" in x:\n",
    "        return 1\n",
    "    else:\n",
    "        return 0  \n",
    "def check_reviews(x):\n",
    "    if \"reviews\" in x:\n",
    "        return 1\n",
    "    else:\n",
    "        return 0\n",
    "def check_manual(x):\n",
    "    if 'manual_offline' in x:\n",
    "        return 1\n",
    "    else:\n",
    "        return 0\n",
    "def check_google(x):\n",
    "    if 'google' in x:\n",
    "        return 1\n",
    "    else:\n",
    "        return 0    \n",
    "def check_amex(x):\n",
    "    if 'amex' in x:\n",
    "        return 1\n",
    "    else:\n",
    "        return 0        "
   ]
  },
  {
   "cell_type": "code",
   "execution_count": 41,
   "metadata": {},
   "outputs": [],
   "source": [
    "train[\"kba_veri\"]=train[\"host_verifications\"].apply(lambda x : check_kba(x))\n",
    "train[\"phone_veri\"]=train[\"host_verifications\"].apply(lambda x : check_phone(x))\n",
    "train[\"email_veri\"]=train[\"host_verifications\"].apply(lambda x : check_email(x))\n",
    "train[\"reviews_veri\"]=train[\"host_verifications\"].apply(lambda x : check_reviews(x))\n",
    "train[\"manual_veri\"]=train[\"host_verifications\"].apply(lambda x : check_manual(x))\n",
    "train[\"google_veri\"]=train[\"host_verifications\"].apply(lambda x : check_google(x))\n",
    "train[\"amex_veri\"]=train[\"host_verifications\"].apply(lambda x : check_amex(x))"
   ]
  },
  {
   "cell_type": "code",
   "execution_count": 42,
   "metadata": {},
   "outputs": [
    {
     "data": {
      "text/html": [
       "<div>\n",
       "<style scoped>\n",
       "    .dataframe tbody tr th:only-of-type {\n",
       "        vertical-align: middle;\n",
       "    }\n",
       "\n",
       "    .dataframe tbody tr th {\n",
       "        vertical-align: top;\n",
       "    }\n",
       "\n",
       "    .dataframe thead th {\n",
       "        text-align: right;\n",
       "    }\n",
       "</style>\n",
       "<table border=\"1\" class=\"dataframe\">\n",
       "  <thead>\n",
       "    <tr style=\"text-align: right;\">\n",
       "      <th></th>\n",
       "      <th>0</th>\n",
       "      <th>host_since</th>\n",
       "      <th>host_response_time</th>\n",
       "      <th>host_response_rate</th>\n",
       "      <th>host_acceptance_rate</th>\n",
       "      <th>host_is_superhost</th>\n",
       "      <th>host_total_listings_count</th>\n",
       "      <th>host_verifications</th>\n",
       "      <th>host_has_profile_pic</th>\n",
       "      <th>host_identity_verified</th>\n",
       "      <th>...</th>\n",
       "      <th>guests_included</th>\n",
       "      <th>extra_people</th>\n",
       "      <th>facebook_veri</th>\n",
       "      <th>kba_veri</th>\n",
       "      <th>phone_veri</th>\n",
       "      <th>email_veri</th>\n",
       "      <th>reviews_veri</th>\n",
       "      <th>manual_veri</th>\n",
       "      <th>google_veri</th>\n",
       "      <th>amex_veri</th>\n",
       "    </tr>\n",
       "  </thead>\n",
       "  <tbody>\n",
       "    <tr>\n",
       "      <th>0</th>\n",
       "      <td>1</td>\n",
       "      <td>2011-03-09</td>\n",
       "      <td>within an hour</td>\n",
       "      <td>100.0</td>\n",
       "      <td>100.0</td>\n",
       "      <td>f</td>\n",
       "      <td>1.0</td>\n",
       "      <td>['email', 'phone', 'facebook', 'reviews', 'kba']</td>\n",
       "      <td>t</td>\n",
       "      <td>t</td>\n",
       "      <td>...</td>\n",
       "      <td>1</td>\n",
       "      <td>$0.00</td>\n",
       "      <td>1</td>\n",
       "      <td>1</td>\n",
       "      <td>1</td>\n",
       "      <td>1</td>\n",
       "      <td>1</td>\n",
       "      <td>0</td>\n",
       "      <td>0</td>\n",
       "      <td>0</td>\n",
       "    </tr>\n",
       "    <tr>\n",
       "      <th>1</th>\n",
       "      <td>2</td>\n",
       "      <td>2013-11-17</td>\n",
       "      <td>within an hour</td>\n",
       "      <td>100.0</td>\n",
       "      <td>100.0</td>\n",
       "      <td>f</td>\n",
       "      <td>1.0</td>\n",
       "      <td>['email', 'phone', 'facebook', 'reviews', 'jum...</td>\n",
       "      <td>t</td>\n",
       "      <td>t</td>\n",
       "      <td>...</td>\n",
       "      <td>1</td>\n",
       "      <td>$0.00</td>\n",
       "      <td>1</td>\n",
       "      <td>0</td>\n",
       "      <td>1</td>\n",
       "      <td>1</td>\n",
       "      <td>1</td>\n",
       "      <td>0</td>\n",
       "      <td>0</td>\n",
       "      <td>0</td>\n",
       "    </tr>\n",
       "    <tr>\n",
       "      <th>2</th>\n",
       "      <td>3</td>\n",
       "      <td>2012-12-06</td>\n",
       "      <td>within an hour</td>\n",
       "      <td>98.0</td>\n",
       "      <td>100.0</td>\n",
       "      <td>f</td>\n",
       "      <td>7.0</td>\n",
       "      <td>['email', 'phone', 'google', 'linkedin', 'revi...</td>\n",
       "      <td>t</td>\n",
       "      <td>t</td>\n",
       "      <td>...</td>\n",
       "      <td>1</td>\n",
       "      <td>$0.00</td>\n",
       "      <td>0</td>\n",
       "      <td>1</td>\n",
       "      <td>1</td>\n",
       "      <td>1</td>\n",
       "      <td>1</td>\n",
       "      <td>0</td>\n",
       "      <td>1</td>\n",
       "      <td>0</td>\n",
       "    </tr>\n",
       "    <tr>\n",
       "      <th>3</th>\n",
       "      <td>4</td>\n",
       "      <td>2014-01-10</td>\n",
       "      <td>within an hour</td>\n",
       "      <td>100.0</td>\n",
       "      <td>100.0</td>\n",
       "      <td>t</td>\n",
       "      <td>1.0</td>\n",
       "      <td>['email', 'phone', 'reviews', 'kba']</td>\n",
       "      <td>t</td>\n",
       "      <td>t</td>\n",
       "      <td>...</td>\n",
       "      <td>2</td>\n",
       "      <td>$0.00</td>\n",
       "      <td>0</td>\n",
       "      <td>1</td>\n",
       "      <td>1</td>\n",
       "      <td>1</td>\n",
       "      <td>1</td>\n",
       "      <td>0</td>\n",
       "      <td>0</td>\n",
       "      <td>0</td>\n",
       "    </tr>\n",
       "    <tr>\n",
       "      <th>4</th>\n",
       "      <td>5</td>\n",
       "      <td>2013-05-14</td>\n",
       "      <td>within an hour</td>\n",
       "      <td>100.0</td>\n",
       "      <td>33.0</td>\n",
       "      <td>f</td>\n",
       "      <td>1.0</td>\n",
       "      <td>['email', 'phone', 'facebook', 'reviews', 'man...</td>\n",
       "      <td>t</td>\n",
       "      <td>t</td>\n",
       "      <td>...</td>\n",
       "      <td>1</td>\n",
       "      <td>$0.00</td>\n",
       "      <td>1</td>\n",
       "      <td>0</td>\n",
       "      <td>1</td>\n",
       "      <td>1</td>\n",
       "      <td>1</td>\n",
       "      <td>1</td>\n",
       "      <td>0</td>\n",
       "      <td>0</td>\n",
       "    </tr>\n",
       "  </tbody>\n",
       "</table>\n",
       "<p>5 rows × 59 columns</p>\n",
       "</div>"
      ],
      "text/plain": [
       "   0  host_since host_response_time  host_response_rate  host_acceptance_rate  \\\n",
       "0  1  2011-03-09     within an hour               100.0                 100.0   \n",
       "1  2  2013-11-17     within an hour               100.0                 100.0   \n",
       "2  3  2012-12-06     within an hour                98.0                 100.0   \n",
       "3  4  2014-01-10     within an hour               100.0                 100.0   \n",
       "4  5  2013-05-14     within an hour               100.0                  33.0   \n",
       "\n",
       "  host_is_superhost  host_total_listings_count  \\\n",
       "0                 f                        1.0   \n",
       "1                 f                        1.0   \n",
       "2                 f                        7.0   \n",
       "3                 t                        1.0   \n",
       "4                 f                        1.0   \n",
       "\n",
       "                                  host_verifications host_has_profile_pic  \\\n",
       "0   ['email', 'phone', 'facebook', 'reviews', 'kba']                    t   \n",
       "1  ['email', 'phone', 'facebook', 'reviews', 'jum...                    t   \n",
       "2  ['email', 'phone', 'google', 'linkedin', 'revi...                    t   \n",
       "3               ['email', 'phone', 'reviews', 'kba']                    t   \n",
       "4  ['email', 'phone', 'facebook', 'reviews', 'man...                    t   \n",
       "\n",
       "  host_identity_verified  ... guests_included extra_people facebook_veri  \\\n",
       "0                      t  ...               1        $0.00             1   \n",
       "1                      t  ...               1        $0.00             1   \n",
       "2                      t  ...               1        $0.00             0   \n",
       "3                      t  ...               2        $0.00             0   \n",
       "4                      t  ...               1        $0.00             1   \n",
       "\n",
       "  kba_veri phone_veri  email_veri  reviews_veri manual_veri google_veri  \\\n",
       "0        1          1           1             1           0           0   \n",
       "1        0          1           1             1           0           0   \n",
       "2        1          1           1             1           0           1   \n",
       "3        1          1           1             1           0           0   \n",
       "4        0          1           1             1           1           0   \n",
       "\n",
       "  amex_veri  \n",
       "0         0  \n",
       "1         0  \n",
       "2         0  \n",
       "3         0  \n",
       "4         0  \n",
       "\n",
       "[5 rows x 59 columns]"
      ]
     },
     "execution_count": 42,
     "metadata": {},
     "output_type": "execute_result"
    }
   ],
   "source": [
    "train.head()"
   ]
  },
  {
   "cell_type": "code",
   "execution_count": 43,
   "metadata": {},
   "outputs": [],
   "source": [
    "train=pd.concat([pd.get_dummies(train[\"host_response_time\"],prefix=\"responce_time\"),train],axis=1)"
   ]
  },
  {
   "cell_type": "code",
   "execution_count": 44,
   "metadata": {},
   "outputs": [],
   "source": [
    "train.drop([\"host_verifications\",\"host_response_time\"],1,inplace=True)"
   ]
  },
  {
   "cell_type": "code",
   "execution_count": 45,
   "metadata": {},
   "outputs": [
    {
     "data": {
      "text/html": [
       "<div>\n",
       "<style scoped>\n",
       "    .dataframe tbody tr th:only-of-type {\n",
       "        vertical-align: middle;\n",
       "    }\n",
       "\n",
       "    .dataframe tbody tr th {\n",
       "        vertical-align: top;\n",
       "    }\n",
       "\n",
       "    .dataframe thead th {\n",
       "        text-align: right;\n",
       "    }\n",
       "</style>\n",
       "<table border=\"1\" class=\"dataframe\">\n",
       "  <thead>\n",
       "    <tr style=\"text-align: right;\">\n",
       "      <th></th>\n",
       "      <th>responce_time_a few days or more</th>\n",
       "      <th>responce_time_within a day</th>\n",
       "      <th>responce_time_within a few hours</th>\n",
       "      <th>responce_time_within an hour</th>\n",
       "      <th>0</th>\n",
       "      <th>host_since</th>\n",
       "      <th>host_response_rate</th>\n",
       "      <th>host_acceptance_rate</th>\n",
       "      <th>host_is_superhost</th>\n",
       "      <th>host_total_listings_count</th>\n",
       "      <th>...</th>\n",
       "      <th>guests_included</th>\n",
       "      <th>extra_people</th>\n",
       "      <th>facebook_veri</th>\n",
       "      <th>kba_veri</th>\n",
       "      <th>phone_veri</th>\n",
       "      <th>email_veri</th>\n",
       "      <th>reviews_veri</th>\n",
       "      <th>manual_veri</th>\n",
       "      <th>google_veri</th>\n",
       "      <th>amex_veri</th>\n",
       "    </tr>\n",
       "  </thead>\n",
       "  <tbody>\n",
       "    <tr>\n",
       "      <th>0</th>\n",
       "      <td>0</td>\n",
       "      <td>0</td>\n",
       "      <td>0</td>\n",
       "      <td>1</td>\n",
       "      <td>1</td>\n",
       "      <td>2011-03-09</td>\n",
       "      <td>100.0</td>\n",
       "      <td>100.0</td>\n",
       "      <td>f</td>\n",
       "      <td>1.0</td>\n",
       "      <td>...</td>\n",
       "      <td>1</td>\n",
       "      <td>$0.00</td>\n",
       "      <td>1</td>\n",
       "      <td>1</td>\n",
       "      <td>1</td>\n",
       "      <td>1</td>\n",
       "      <td>1</td>\n",
       "      <td>0</td>\n",
       "      <td>0</td>\n",
       "      <td>0</td>\n",
       "    </tr>\n",
       "    <tr>\n",
       "      <th>1</th>\n",
       "      <td>0</td>\n",
       "      <td>0</td>\n",
       "      <td>0</td>\n",
       "      <td>1</td>\n",
       "      <td>2</td>\n",
       "      <td>2013-11-17</td>\n",
       "      <td>100.0</td>\n",
       "      <td>100.0</td>\n",
       "      <td>f</td>\n",
       "      <td>1.0</td>\n",
       "      <td>...</td>\n",
       "      <td>1</td>\n",
       "      <td>$0.00</td>\n",
       "      <td>1</td>\n",
       "      <td>0</td>\n",
       "      <td>1</td>\n",
       "      <td>1</td>\n",
       "      <td>1</td>\n",
       "      <td>0</td>\n",
       "      <td>0</td>\n",
       "      <td>0</td>\n",
       "    </tr>\n",
       "    <tr>\n",
       "      <th>2</th>\n",
       "      <td>0</td>\n",
       "      <td>0</td>\n",
       "      <td>0</td>\n",
       "      <td>1</td>\n",
       "      <td>3</td>\n",
       "      <td>2012-12-06</td>\n",
       "      <td>98.0</td>\n",
       "      <td>100.0</td>\n",
       "      <td>f</td>\n",
       "      <td>7.0</td>\n",
       "      <td>...</td>\n",
       "      <td>1</td>\n",
       "      <td>$0.00</td>\n",
       "      <td>0</td>\n",
       "      <td>1</td>\n",
       "      <td>1</td>\n",
       "      <td>1</td>\n",
       "      <td>1</td>\n",
       "      <td>0</td>\n",
       "      <td>1</td>\n",
       "      <td>0</td>\n",
       "    </tr>\n",
       "    <tr>\n",
       "      <th>3</th>\n",
       "      <td>0</td>\n",
       "      <td>0</td>\n",
       "      <td>0</td>\n",
       "      <td>1</td>\n",
       "      <td>4</td>\n",
       "      <td>2014-01-10</td>\n",
       "      <td>100.0</td>\n",
       "      <td>100.0</td>\n",
       "      <td>t</td>\n",
       "      <td>1.0</td>\n",
       "      <td>...</td>\n",
       "      <td>2</td>\n",
       "      <td>$0.00</td>\n",
       "      <td>0</td>\n",
       "      <td>1</td>\n",
       "      <td>1</td>\n",
       "      <td>1</td>\n",
       "      <td>1</td>\n",
       "      <td>0</td>\n",
       "      <td>0</td>\n",
       "      <td>0</td>\n",
       "    </tr>\n",
       "    <tr>\n",
       "      <th>4</th>\n",
       "      <td>0</td>\n",
       "      <td>0</td>\n",
       "      <td>0</td>\n",
       "      <td>1</td>\n",
       "      <td>5</td>\n",
       "      <td>2013-05-14</td>\n",
       "      <td>100.0</td>\n",
       "      <td>33.0</td>\n",
       "      <td>f</td>\n",
       "      <td>1.0</td>\n",
       "      <td>...</td>\n",
       "      <td>1</td>\n",
       "      <td>$0.00</td>\n",
       "      <td>1</td>\n",
       "      <td>0</td>\n",
       "      <td>1</td>\n",
       "      <td>1</td>\n",
       "      <td>1</td>\n",
       "      <td>1</td>\n",
       "      <td>0</td>\n",
       "      <td>0</td>\n",
       "    </tr>\n",
       "  </tbody>\n",
       "</table>\n",
       "<p>5 rows × 61 columns</p>\n",
       "</div>"
      ],
      "text/plain": [
       "   responce_time_a few days or more  responce_time_within a day  \\\n",
       "0                                 0                           0   \n",
       "1                                 0                           0   \n",
       "2                                 0                           0   \n",
       "3                                 0                           0   \n",
       "4                                 0                           0   \n",
       "\n",
       "   responce_time_within a few hours  responce_time_within an hour  0  \\\n",
       "0                                 0                             1  1   \n",
       "1                                 0                             1  2   \n",
       "2                                 0                             1  3   \n",
       "3                                 0                             1  4   \n",
       "4                                 0                             1  5   \n",
       "\n",
       "   host_since  host_response_rate  host_acceptance_rate host_is_superhost  \\\n",
       "0  2011-03-09               100.0                 100.0                 f   \n",
       "1  2013-11-17               100.0                 100.0                 f   \n",
       "2  2012-12-06                98.0                 100.0                 f   \n",
       "3  2014-01-10               100.0                 100.0                 t   \n",
       "4  2013-05-14               100.0                  33.0                 f   \n",
       "\n",
       "   host_total_listings_count  ... guests_included extra_people facebook_veri  \\\n",
       "0                        1.0  ...               1        $0.00             1   \n",
       "1                        1.0  ...               1        $0.00             1   \n",
       "2                        7.0  ...               1        $0.00             0   \n",
       "3                        1.0  ...               2        $0.00             0   \n",
       "4                        1.0  ...               1        $0.00             1   \n",
       "\n",
       "  kba_veri phone_veri email_veri reviews_veri  manual_veri  google_veri  \\\n",
       "0        1          1          1            1            0            0   \n",
       "1        0          1          1            1            0            0   \n",
       "2        1          1          1            1            0            1   \n",
       "3        1          1          1            1            0            0   \n",
       "4        0          1          1            1            1            0   \n",
       "\n",
       "  amex_veri  \n",
       "0         0  \n",
       "1         0  \n",
       "2         0  \n",
       "3         0  \n",
       "4         0  \n",
       "\n",
       "[5 rows x 61 columns]"
      ]
     },
     "execution_count": 45,
     "metadata": {},
     "output_type": "execute_result"
    }
   ],
   "source": [
    "train.head()"
   ]
  },
  {
   "cell_type": "code",
   "execution_count": null,
   "metadata": {},
   "outputs": [],
   "source": []
  },
  {
   "cell_type": "code",
   "execution_count": 46,
   "metadata": {},
   "outputs": [],
   "source": [
    "train[\"host_since\"]=train[\"host_since\"].astype(str)"
   ]
  },
  {
   "cell_type": "code",
   "execution_count": 47,
   "metadata": {},
   "outputs": [],
   "source": [
    "train[\"host_since\"]=train[\"host_since\"].apply(lambda x : x[:4])"
   ]
  },
  {
   "cell_type": "code",
   "execution_count": 48,
   "metadata": {},
   "outputs": [
    {
     "data": {
      "text/plain": [
       "2015    7151\n",
       "2014    6431\n",
       "2013    5363\n",
       "2012    4735\n",
       "2011    2617\n",
       "2016    2274\n",
       "2010    1035\n",
       "2009     361\n",
       "2008      30\n",
       "nan        3\n",
       "Name: host_since, dtype: int64"
      ]
     },
     "execution_count": 48,
     "metadata": {},
     "output_type": "execute_result"
    }
   ],
   "source": [
    "train[\"host_since\"].value_counts()"
   ]
  },
  {
   "cell_type": "code",
   "execution_count": 49,
   "metadata": {},
   "outputs": [],
   "source": [
    "train[\"host_since\"].replace(\"nan\",np.NaN,inplace=True)"
   ]
  },
  {
   "cell_type": "code",
   "execution_count": 50,
   "metadata": {},
   "outputs": [],
   "source": [
    "train[\"host_since\"].fillna('2015',inplace=True)"
   ]
  },
  {
   "cell_type": "code",
   "execution_count": 51,
   "metadata": {},
   "outputs": [],
   "source": [
    "train=pd.concat([pd.get_dummies(train[\"host_since\"],prefix=\"host_since\"),train],axis=1)"
   ]
  },
  {
   "cell_type": "code",
   "execution_count": 52,
   "metadata": {},
   "outputs": [
    {
     "data": {
      "text/html": [
       "<div>\n",
       "<style scoped>\n",
       "    .dataframe tbody tr th:only-of-type {\n",
       "        vertical-align: middle;\n",
       "    }\n",
       "\n",
       "    .dataframe tbody tr th {\n",
       "        vertical-align: top;\n",
       "    }\n",
       "\n",
       "    .dataframe thead th {\n",
       "        text-align: right;\n",
       "    }\n",
       "</style>\n",
       "<table border=\"1\" class=\"dataframe\">\n",
       "  <thead>\n",
       "    <tr style=\"text-align: right;\">\n",
       "      <th></th>\n",
       "      <th>host_since_2008</th>\n",
       "      <th>host_since_2009</th>\n",
       "      <th>host_since_2010</th>\n",
       "      <th>host_since_2011</th>\n",
       "      <th>host_since_2012</th>\n",
       "      <th>host_since_2013</th>\n",
       "      <th>host_since_2014</th>\n",
       "      <th>host_since_2015</th>\n",
       "      <th>host_since_2016</th>\n",
       "      <th>responce_time_a few days or more</th>\n",
       "      <th>...</th>\n",
       "      <th>guests_included</th>\n",
       "      <th>extra_people</th>\n",
       "      <th>facebook_veri</th>\n",
       "      <th>kba_veri</th>\n",
       "      <th>phone_veri</th>\n",
       "      <th>email_veri</th>\n",
       "      <th>reviews_veri</th>\n",
       "      <th>manual_veri</th>\n",
       "      <th>google_veri</th>\n",
       "      <th>amex_veri</th>\n",
       "    </tr>\n",
       "  </thead>\n",
       "  <tbody>\n",
       "    <tr>\n",
       "      <th>0</th>\n",
       "      <td>0</td>\n",
       "      <td>0</td>\n",
       "      <td>0</td>\n",
       "      <td>1</td>\n",
       "      <td>0</td>\n",
       "      <td>0</td>\n",
       "      <td>0</td>\n",
       "      <td>0</td>\n",
       "      <td>0</td>\n",
       "      <td>0</td>\n",
       "      <td>...</td>\n",
       "      <td>1</td>\n",
       "      <td>$0.00</td>\n",
       "      <td>1</td>\n",
       "      <td>1</td>\n",
       "      <td>1</td>\n",
       "      <td>1</td>\n",
       "      <td>1</td>\n",
       "      <td>0</td>\n",
       "      <td>0</td>\n",
       "      <td>0</td>\n",
       "    </tr>\n",
       "    <tr>\n",
       "      <th>1</th>\n",
       "      <td>0</td>\n",
       "      <td>0</td>\n",
       "      <td>0</td>\n",
       "      <td>0</td>\n",
       "      <td>0</td>\n",
       "      <td>1</td>\n",
       "      <td>0</td>\n",
       "      <td>0</td>\n",
       "      <td>0</td>\n",
       "      <td>0</td>\n",
       "      <td>...</td>\n",
       "      <td>1</td>\n",
       "      <td>$0.00</td>\n",
       "      <td>1</td>\n",
       "      <td>0</td>\n",
       "      <td>1</td>\n",
       "      <td>1</td>\n",
       "      <td>1</td>\n",
       "      <td>0</td>\n",
       "      <td>0</td>\n",
       "      <td>0</td>\n",
       "    </tr>\n",
       "    <tr>\n",
       "      <th>2</th>\n",
       "      <td>0</td>\n",
       "      <td>0</td>\n",
       "      <td>0</td>\n",
       "      <td>0</td>\n",
       "      <td>1</td>\n",
       "      <td>0</td>\n",
       "      <td>0</td>\n",
       "      <td>0</td>\n",
       "      <td>0</td>\n",
       "      <td>0</td>\n",
       "      <td>...</td>\n",
       "      <td>1</td>\n",
       "      <td>$0.00</td>\n",
       "      <td>0</td>\n",
       "      <td>1</td>\n",
       "      <td>1</td>\n",
       "      <td>1</td>\n",
       "      <td>1</td>\n",
       "      <td>0</td>\n",
       "      <td>1</td>\n",
       "      <td>0</td>\n",
       "    </tr>\n",
       "    <tr>\n",
       "      <th>3</th>\n",
       "      <td>0</td>\n",
       "      <td>0</td>\n",
       "      <td>0</td>\n",
       "      <td>0</td>\n",
       "      <td>0</td>\n",
       "      <td>0</td>\n",
       "      <td>1</td>\n",
       "      <td>0</td>\n",
       "      <td>0</td>\n",
       "      <td>0</td>\n",
       "      <td>...</td>\n",
       "      <td>2</td>\n",
       "      <td>$0.00</td>\n",
       "      <td>0</td>\n",
       "      <td>1</td>\n",
       "      <td>1</td>\n",
       "      <td>1</td>\n",
       "      <td>1</td>\n",
       "      <td>0</td>\n",
       "      <td>0</td>\n",
       "      <td>0</td>\n",
       "    </tr>\n",
       "    <tr>\n",
       "      <th>4</th>\n",
       "      <td>0</td>\n",
       "      <td>0</td>\n",
       "      <td>0</td>\n",
       "      <td>0</td>\n",
       "      <td>0</td>\n",
       "      <td>1</td>\n",
       "      <td>0</td>\n",
       "      <td>0</td>\n",
       "      <td>0</td>\n",
       "      <td>0</td>\n",
       "      <td>...</td>\n",
       "      <td>1</td>\n",
       "      <td>$0.00</td>\n",
       "      <td>1</td>\n",
       "      <td>0</td>\n",
       "      <td>1</td>\n",
       "      <td>1</td>\n",
       "      <td>1</td>\n",
       "      <td>1</td>\n",
       "      <td>0</td>\n",
       "      <td>0</td>\n",
       "    </tr>\n",
       "  </tbody>\n",
       "</table>\n",
       "<p>5 rows × 70 columns</p>\n",
       "</div>"
      ],
      "text/plain": [
       "   host_since_2008  host_since_2009  host_since_2010  host_since_2011  \\\n",
       "0                0                0                0                1   \n",
       "1                0                0                0                0   \n",
       "2                0                0                0                0   \n",
       "3                0                0                0                0   \n",
       "4                0                0                0                0   \n",
       "\n",
       "   host_since_2012  host_since_2013  host_since_2014  host_since_2015  \\\n",
       "0                0                0                0                0   \n",
       "1                0                1                0                0   \n",
       "2                1                0                0                0   \n",
       "3                0                0                1                0   \n",
       "4                0                1                0                0   \n",
       "\n",
       "   host_since_2016  responce_time_a few days or more  ...  guests_included  \\\n",
       "0                0                                 0  ...                1   \n",
       "1                0                                 0  ...                1   \n",
       "2                0                                 0  ...                1   \n",
       "3                0                                 0  ...                2   \n",
       "4                0                                 0  ...                1   \n",
       "\n",
       "   extra_people  facebook_veri  kba_veri phone_veri  email_veri  reviews_veri  \\\n",
       "0         $0.00              1         1          1           1             1   \n",
       "1         $0.00              1         0          1           1             1   \n",
       "2         $0.00              0         1          1           1             1   \n",
       "3         $0.00              0         1          1           1             1   \n",
       "4         $0.00              1         0          1           1             1   \n",
       "\n",
       "  manual_veri  google_veri amex_veri  \n",
       "0           0            0         0  \n",
       "1           0            0         0  \n",
       "2           0            1         0  \n",
       "3           0            0         0  \n",
       "4           1            0         0  \n",
       "\n",
       "[5 rows x 70 columns]"
      ]
     },
     "execution_count": 52,
     "metadata": {},
     "output_type": "execute_result"
    }
   ],
   "source": [
    "train.head()"
   ]
  },
  {
   "cell_type": "code",
   "execution_count": 53,
   "metadata": {},
   "outputs": [],
   "source": [
    "train.drop(labels=\"host_since\",axis=1,inplace=True)"
   ]
  },
  {
   "cell_type": "code",
   "execution_count": 54,
   "metadata": {},
   "outputs": [
    {
     "data": {
      "text/html": [
       "<div>\n",
       "<style scoped>\n",
       "    .dataframe tbody tr th:only-of-type {\n",
       "        vertical-align: middle;\n",
       "    }\n",
       "\n",
       "    .dataframe tbody tr th {\n",
       "        vertical-align: top;\n",
       "    }\n",
       "\n",
       "    .dataframe thead th {\n",
       "        text-align: right;\n",
       "    }\n",
       "</style>\n",
       "<table border=\"1\" class=\"dataframe\">\n",
       "  <thead>\n",
       "    <tr style=\"text-align: right;\">\n",
       "      <th></th>\n",
       "    </tr>\n",
       "  </thead>\n",
       "  <tbody>\n",
       "    <tr>\n",
       "      <th>0</th>\n",
       "    </tr>\n",
       "    <tr>\n",
       "      <th>1</th>\n",
       "    </tr>\n",
       "    <tr>\n",
       "      <th>2</th>\n",
       "    </tr>\n",
       "    <tr>\n",
       "      <th>3</th>\n",
       "    </tr>\n",
       "    <tr>\n",
       "      <th>4</th>\n",
       "    </tr>\n",
       "  </tbody>\n",
       "</table>\n",
       "</div>"
      ],
      "text/plain": [
       "Empty DataFrame\n",
       "Columns: []\n",
       "Index: [0, 1, 2, 3, 4]"
      ]
     },
     "execution_count": 54,
     "metadata": {},
     "output_type": "execute_result"
    }
   ],
   "source": [
    "train.iloc[:,591:612].head()"
   ]
  },
  {
   "cell_type": "code",
   "execution_count": 55,
   "metadata": {},
   "outputs": [],
   "source": [
    "train[\"host_response_rate\"].fillna(train[\"host_response_rate\"].median(),inplace=True)"
   ]
  },
  {
   "cell_type": "code",
   "execution_count": 56,
   "metadata": {},
   "outputs": [],
   "source": [
    "train[\"host_acceptance_rate\"].fillna(train[\"host_acceptance_rate\"].median(),inplace=True)"
   ]
  },
  {
   "cell_type": "code",
   "execution_count": 57,
   "metadata": {},
   "outputs": [],
   "source": [
    "train=pd.concat([pd.get_dummies(train[\"host_is_superhost\"],prefix=\"super\"),train],axis=1)"
   ]
  },
  {
   "cell_type": "code",
   "execution_count": 58,
   "metadata": {},
   "outputs": [],
   "source": [
    "train.drop(labels=\"host_is_superhost\",axis=1,inplace=True)"
   ]
  },
  {
   "cell_type": "code",
   "execution_count": 59,
   "metadata": {},
   "outputs": [],
   "source": [
    "#train[\"host_total_listings_count\"].value_counts()"
   ]
  },
  {
   "cell_type": "code",
   "execution_count": 60,
   "metadata": {},
   "outputs": [],
   "source": [
    "train=pd.concat([pd.get_dummies(train[\"host_has_profile_pic\"],prefix=\"profile\"),train],axis=1)"
   ]
  },
  {
   "cell_type": "code",
   "execution_count": 61,
   "metadata": {},
   "outputs": [],
   "source": [
    "train.drop(labels=\"host_has_profile_pic\",axis=1,inplace=True)"
   ]
  },
  {
   "cell_type": "code",
   "execution_count": 62,
   "metadata": {},
   "outputs": [],
   "source": [
    "train=pd.concat([pd.get_dummies(train[\"host_identity_verified\"],prefix=\"id_veri\"),train],axis=1)"
   ]
  },
  {
   "cell_type": "code",
   "execution_count": 63,
   "metadata": {},
   "outputs": [],
   "source": [
    "train.drop(labels=\"host_identity_verified\",axis=1,inplace=True)"
   ]
  },
  {
   "cell_type": "code",
   "execution_count": 64,
   "metadata": {},
   "outputs": [],
   "source": [
    "train=pd.concat([pd.get_dummies(train[\"neighbourhood_cleansed\"],prefix=\"neigh_cle\"),train],axis=1)"
   ]
  },
  {
   "cell_type": "code",
   "execution_count": 65,
   "metadata": {},
   "outputs": [],
   "source": [
    "train.drop(labels=\"neighbourhood_cleansed\",axis=1,inplace=True)"
   ]
  },
  {
   "cell_type": "code",
   "execution_count": 66,
   "metadata": {},
   "outputs": [],
   "source": [
    "train=pd.concat([pd.get_dummies(train[\"neighbourhood_group_cleansed\"],prefix=\"goup_cle\"),train],axis=1)"
   ]
  },
  {
   "cell_type": "code",
   "execution_count": 67,
   "metadata": {},
   "outputs": [],
   "source": [
    "train.drop(labels=\"neighbourhood_group_cleansed\",axis=1,inplace=True)"
   ]
  },
  {
   "cell_type": "code",
   "execution_count": 68,
   "metadata": {},
   "outputs": [],
   "source": [
    "train=pd.concat([pd.get_dummies(train[\"market\"],prefix=\"marker\"),train],axis=1)"
   ]
  },
  {
   "cell_type": "code",
   "execution_count": 69,
   "metadata": {},
   "outputs": [],
   "source": [
    "train.drop(labels=\"market\",axis=1,inplace=True)"
   ]
  },
  {
   "cell_type": "code",
   "execution_count": 70,
   "metadata": {},
   "outputs": [],
   "source": [
    "train=pd.concat([pd.get_dummies(train[\"smart_location\"],prefix=\"location\"),train],axis=1)"
   ]
  },
  {
   "cell_type": "code",
   "execution_count": 71,
   "metadata": {},
   "outputs": [],
   "source": [
    "train.drop(labels=\"smart_location\",axis=1,inplace=True)"
   ]
  },
  {
   "cell_type": "code",
   "execution_count": 72,
   "metadata": {},
   "outputs": [],
   "source": [
    "train=pd.concat([pd.get_dummies(train[\"is_location_exact\"],prefix=\"exactly\"),train],axis=1)"
   ]
  },
  {
   "cell_type": "code",
   "execution_count": 73,
   "metadata": {},
   "outputs": [],
   "source": [
    "train.drop(labels=\"is_location_exact\",axis=1,inplace=True)"
   ]
  },
  {
   "cell_type": "code",
   "execution_count": 74,
   "metadata": {},
   "outputs": [],
   "source": [
    "train=pd.concat([pd.get_dummies(train[\"property_type\"],prefix=\"prop_type\"),train],axis=1)"
   ]
  },
  {
   "cell_type": "code",
   "execution_count": 75,
   "metadata": {},
   "outputs": [],
   "source": [
    "train.drop(labels=\"property_type\",axis=1,inplace=True)"
   ]
  },
  {
   "cell_type": "code",
   "execution_count": 76,
   "metadata": {},
   "outputs": [
    {
     "data": {
      "text/plain": [
       "Entire home/apt    15627\n",
       "Private room       13498\n",
       "Shared room          875\n",
       "Name: room_type, dtype: int64"
      ]
     },
     "execution_count": 76,
     "metadata": {},
     "output_type": "execute_result"
    }
   ],
   "source": [
    "train[\"room_type\"].value_counts()"
   ]
  },
  {
   "cell_type": "code",
   "execution_count": 77,
   "metadata": {},
   "outputs": [],
   "source": [
    "train=pd.concat([pd.get_dummies(train[\"room_type\"],prefix=\"Room_type\"),train],axis=1)"
   ]
  },
  {
   "cell_type": "code",
   "execution_count": 78,
   "metadata": {},
   "outputs": [],
   "source": [
    "train.drop(labels=\"room_type\",axis=1,inplace=True)"
   ]
  },
  {
   "cell_type": "code",
   "execution_count": 79,
   "metadata": {},
   "outputs": [],
   "source": [
    "train.drop([\"street\",\"latitude\",\"longitude\",\"0\"],1,inplace=True)"
   ]
  },
  {
   "cell_type": "code",
   "execution_count": 80,
   "metadata": {},
   "outputs": [],
   "source": [
    "train=pd.concat([pd.get_dummies(train[\"accommodates\"],prefix=\"accom\"),train],axis=1)"
   ]
  },
  {
   "cell_type": "code",
   "execution_count": 81,
   "metadata": {},
   "outputs": [],
   "source": [
    "train.drop(labels=\"accommodates\",axis=1,inplace=True)"
   ]
  },
  {
   "cell_type": "code",
   "execution_count": 82,
   "metadata": {},
   "outputs": [],
   "source": [
    "train=pd.concat([pd.get_dummies(train[\"bathrooms\"],prefix=\"bathrooms\"),train],axis=1)"
   ]
  },
  {
   "cell_type": "code",
   "execution_count": 83,
   "metadata": {},
   "outputs": [],
   "source": [
    "train=pd.concat([pd.get_dummies(train[\"bedrooms\"],prefix=\"bedrooms\"),train],axis=1)"
   ]
  },
  {
   "cell_type": "code",
   "execution_count": 84,
   "metadata": {},
   "outputs": [],
   "source": [
    "train.drop([\"bathrooms\",\"bedrooms\"],1,inplace=True)"
   ]
  },
  {
   "cell_type": "code",
   "execution_count": 85,
   "metadata": {},
   "outputs": [],
   "source": [
    "train=pd.concat([pd.get_dummies(train[\"beds\"],prefix=\"bedss\"),train],axis=1)"
   ]
  },
  {
   "cell_type": "code",
   "execution_count": 86,
   "metadata": {},
   "outputs": [],
   "source": [
    "train.drop(labels=\"beds\",axis=1,inplace=True)"
   ]
  },
  {
   "cell_type": "code",
   "execution_count": 87,
   "metadata": {},
   "outputs": [],
   "source": [
    "train=pd.concat([pd.get_dummies(train[\"bed_type\"],prefix=\"bedtype\"),train],axis=1)"
   ]
  },
  {
   "cell_type": "code",
   "execution_count": 88,
   "metadata": {},
   "outputs": [],
   "source": [
    "train.drop(labels=\"bed_type\",axis=1,inplace=True)"
   ]
  },
  {
   "cell_type": "code",
   "execution_count": 89,
   "metadata": {},
   "outputs": [
    {
     "data": {
      "text/plain": [
       "'{TV,\"Cable TV\",Internet,\"Wireless Internet\",\"Air Conditioning\",Kitchen,\"Pets live on this property\",Dog(s),Heating,\"Family/Kid Friendly\",\"Smoke Detector\",\"Fire Extinguisher\",Essentials,Shampoo}'"
      ]
     },
     "execution_count": 89,
     "metadata": {},
     "output_type": "execute_result"
    }
   ],
   "source": [
    "train[\"amenities\"][0]"
   ]
  },
  {
   "cell_type": "code",
   "execution_count": 90,
   "metadata": {},
   "outputs": [
    {
     "data": {
      "text/plain": [
       "'{Internet,\"Wireless Internet\",Kitchen,\"Buzzer/Wireless Intercom\",Heating,\"Smoke Detector\",\"Fire Extinguisher\",Essentials}'"
      ]
     },
     "execution_count": 90,
     "metadata": {},
     "output_type": "execute_result"
    }
   ],
   "source": [
    "train[\"amenities\"][1]"
   ]
  },
  {
   "cell_type": "code",
   "execution_count": 91,
   "metadata": {},
   "outputs": [
    {
     "data": {
      "text/plain": [
       "'{Internet,\"Wireless Internet\",\"Air Conditioning\",\"Free Parking on Premises\",\"Buzzer/Wireless Intercom\",Heating,\"Smoke Detector\",Essentials,\"Lock on Bedroom Door\",\"Hair Dryer\",Iron}'"
      ]
     },
     "execution_count": 91,
     "metadata": {},
     "output_type": "execute_result"
    }
   ],
   "source": [
    "train[\"amenities\"][3]"
   ]
  },
  {
   "cell_type": "code",
   "execution_count": 92,
   "metadata": {},
   "outputs": [
    {
     "data": {
      "text/plain": [
       "'Internet,Wireless Internet,Air Conditioning,Free Parking on Premises,Buzzer/Wireless Intercom,Heating,Smoke Detector,Essentials,Lock on Bedroom Door,Hair Dryer,Iron'"
      ]
     },
     "execution_count": 92,
     "metadata": {},
     "output_type": "execute_result"
    }
   ],
   "source": [
    "a='{Internet,\"Wireless Internet\",\"Air Conditioning\",\"Free Parking on Premises\",\"Buzzer/Wireless Intercom\",Heating,\"Smoke Detector\",Essentials,\"Lock on Bedroom Door\",\"Hair Dryer\",Iron}'\n",
    "a.replace('{',\"\").replace(\"}\",\"\").replace('\"','')"
   ]
  },
  {
   "cell_type": "code",
   "execution_count": 93,
   "metadata": {},
   "outputs": [],
   "source": [
    "train[\"amenities\"]=train[\"amenities\"].apply(lambda x : x.replace('{',\"\").replace(\"}\",\"\").replace('\"','').split(\",\"))\n",
    "#a.replace('{',\"\").replace(\"}\",\"\").split(\",\")"
   ]
  },
  {
   "cell_type": "code",
   "execution_count": 94,
   "metadata": {},
   "outputs": [
    {
     "data": {
      "text/plain": [
       "['TV',\n",
       " 'Cable TV',\n",
       " 'Internet',\n",
       " 'Wireless Internet',\n",
       " 'Air Conditioning',\n",
       " 'Kitchen',\n",
       " 'Heating',\n",
       " 'Family/Kid Friendly',\n",
       " 'Smoke Detector',\n",
       " 'Carbon Monoxide Detector',\n",
       " 'First Aid Kit',\n",
       " 'Safety Card',\n",
       " 'Fire Extinguisher',\n",
       " 'Essentials',\n",
       " 'Shampoo',\n",
       " '24-Hour Check-in',\n",
       " 'Hangers',\n",
       " 'Hair Dryer',\n",
       " 'Iron',\n",
       " 'Laptop Friendly Workspace']"
      ]
     },
     "execution_count": 94,
     "metadata": {},
     "output_type": "execute_result"
    }
   ],
   "source": [
    "c=train[\"amenities\"][134]\n",
    "c\n"
   ]
  },
  {
   "cell_type": "code",
   "execution_count": 95,
   "metadata": {},
   "outputs": [],
   "source": [
    "def check_tv(x):\n",
    "    if 'TV' in x:\n",
    "        return 1\n",
    "    else:\n",
    "        return 0\n",
    "def check_int(x):\n",
    "    if 'Internet' in x:\n",
    "        return 1\n",
    "    else:\n",
    "        return 0   \n",
    "def check_wiles(x):\n",
    "    if 'Wireless Internet' in x:\n",
    "        return 1\n",
    "    else:\n",
    "        return 0\n",
    "def check_ele(x):\n",
    "    if 'Elevator in Building' in x:\n",
    "        return 1\n",
    "    else:\n",
    "        return 0   \n",
    "def check_he(x):\n",
    "    if 'Heating' in x:\n",
    "        return 1\n",
    "    else:\n",
    "        return 0\n",
    "def check_kit(x):\n",
    "    if 'Kitchen' in x:\n",
    "        return 1\n",
    "    else:\n",
    "        return 0   \n",
    "def check_ac(x):\n",
    "    if 'Air Conditioning' in x:\n",
    "        return 1\n",
    "    else:\n",
    "        return 0\n",
    "def check_smo(x):\n",
    "    if 'Smoke Detector' in x:\n",
    "        return 1\n",
    "    else:\n",
    "        return 0   \n",
    "def check_he(x):\n",
    "    if 'Heating' in x:\n",
    "        return 1\n",
    "    else:\n",
    "        return 0\n",
    "def check_wash(x):\n",
    "    if 'Washer' in x:\n",
    "        return 1\n",
    "    else:\n",
    "        return 0   \n",
    "def check_dry(x):\n",
    "    if 'Dryer' in x:\n",
    "        return 1\n",
    "    else:\n",
    "        return 0\n",
    "def check_lappy(x):\n",
    "    if 'Laptop Friendly Workspace' in x:\n",
    "        return 1\n",
    "    else:\n",
    "        return 0              "
   ]
  },
  {
   "cell_type": "code",
   "execution_count": 96,
   "metadata": {},
   "outputs": [],
   "source": [
    "train[\"tv\"]=train[\"amenities\"].apply(lambda x : check_tv(x))\n",
    "train[\"internet\"]=train[\"amenities\"].apply(lambda x : check_int(x))\n",
    "train[\"wireless_internet\"]=train[\"amenities\"].apply(lambda x : check_wiles(x))\n",
    "train[\"elevetro\"]=train[\"amenities\"].apply(lambda x : check_ele(x))\n",
    "train[\"heater\"]=train[\"amenities\"].apply(lambda x : check_he(x))\n",
    "train[\"Kitechen\"]=train[\"amenities\"].apply(lambda x : check_kit(x))\n",
    "train[\"AC\"]=train[\"amenities\"].apply(lambda x : check_ac(x))\n",
    "train[\"smoke_detect\"]=train[\"amenities\"].apply(lambda x : check_smo(x))\n",
    "train[\"washer\"]=train[\"amenities\"].apply(lambda x : check_wash(x))\n",
    "train[\"dryerr\"]=train[\"amenities\"].apply(lambda x : check_dry(x))\n",
    "train[\"laptop_space\"]=train[\"amenities\"].apply(lambda x : check_lappy(x))\n",
    "train[\"tv\"]=train[\"amenities\"].apply(lambda x : check_tv(x))"
   ]
  },
  {
   "cell_type": "code",
   "execution_count": 97,
   "metadata": {},
   "outputs": [],
   "source": [
    "train.drop(labels=\"amenities\",axis=1,inplace=True)"
   ]
  },
  {
   "cell_type": "code",
   "execution_count": 98,
   "metadata": {},
   "outputs": [],
   "source": [
    "train.drop(labels=\"square_feet\",axis=1,inplace=True)"
   ]
  },
  {
   "cell_type": "code",
   "execution_count": 99,
   "metadata": {},
   "outputs": [],
   "source": [
    "train.drop(labels=\"security_deposit\",axis=1,inplace=True)"
   ]
  },
  {
   "cell_type": "code",
   "execution_count": 100,
   "metadata": {},
   "outputs": [],
   "source": [
    "#train[\"minimum_nights\"].value_counts()"
   ]
  },
  {
   "cell_type": "code",
   "execution_count": 101,
   "metadata": {},
   "outputs": [],
   "source": [
    "train[\"review_scores_rating\"].fillna(train[\"review_scores_rating\"].median(),inplace=True)"
   ]
  },
  {
   "cell_type": "code",
   "execution_count": 102,
   "metadata": {},
   "outputs": [
    {
     "data": {
      "text/plain": [
       "10.0"
      ]
     },
     "execution_count": 102,
     "metadata": {},
     "output_type": "execute_result"
    }
   ],
   "source": [
    "train[\"review_scores_accuracy\"].median()"
   ]
  },
  {
   "cell_type": "code",
   "execution_count": 103,
   "metadata": {},
   "outputs": [],
   "source": [
    "train[\"review_scores_accuracy\"].fillna(train[\"review_scores_accuracy\"].median(),inplace=True)"
   ]
  },
  {
   "cell_type": "code",
   "execution_count": 104,
   "metadata": {},
   "outputs": [],
   "source": [
    "train[\"review_scores_cleanliness\"].fillna(train[\"review_scores_cleanliness\"].median(),inplace=True)"
   ]
  },
  {
   "cell_type": "code",
   "execution_count": 105,
   "metadata": {},
   "outputs": [],
   "source": [
    "train[\"review_scores_checkin\"].fillna(train[\"review_scores_checkin\"].median(),inplace=True)"
   ]
  },
  {
   "cell_type": "code",
   "execution_count": 106,
   "metadata": {},
   "outputs": [],
   "source": [
    "train[\"review_scores_communication\"].fillna(train[\"review_scores_communication\"].median(),inplace=True)"
   ]
  },
  {
   "cell_type": "code",
   "execution_count": 107,
   "metadata": {},
   "outputs": [],
   "source": [
    "train[\"review_scores_location\"].fillna(train[\"review_scores_location\"].median(),inplace=True)"
   ]
  },
  {
   "cell_type": "code",
   "execution_count": 108,
   "metadata": {},
   "outputs": [],
   "source": [
    "train[\"review_scores_value\"].fillna(train[\"review_scores_value\"].median(),inplace=True)"
   ]
  },
  {
   "cell_type": "code",
   "execution_count": 109,
   "metadata": {},
   "outputs": [],
   "source": [
    "train=pd.concat([pd.get_dummies(train[\"instant_bookable\"]),train],axis=1)"
   ]
  },
  {
   "cell_type": "code",
   "execution_count": 110,
   "metadata": {},
   "outputs": [],
   "source": [
    "train.drop(labels=\"instant_bookable\",axis=1,inplace=True)"
   ]
  },
  {
   "cell_type": "code",
   "execution_count": 111,
   "metadata": {},
   "outputs": [],
   "source": [
    "train=pd.concat([pd.get_dummies(train[\"cancellation_policy\"],prefix=\"cancellation\"),train],axis=1)"
   ]
  },
  {
   "cell_type": "code",
   "execution_count": 112,
   "metadata": {},
   "outputs": [],
   "source": [
    "train.drop(labels=\"cancellation_policy\",axis=1,inplace=True)"
   ]
  },
  {
   "cell_type": "code",
   "execution_count": 113,
   "metadata": {},
   "outputs": [
    {
     "data": {
      "text/plain": [
       "<matplotlib.axes._subplots.AxesSubplot at 0x1b603460748>"
      ]
     },
     "execution_count": 113,
     "metadata": {},
     "output_type": "execute_result"
    }
   ],
   "source": [
    "train[\"review_scores_rating\"].plot(kind=\"hist\")"
   ]
  },
  {
   "cell_type": "code",
   "execution_count": 114,
   "metadata": {},
   "outputs": [],
   "source": [
    "train.drop(labels=\"reviews_per_month\",axis=1,inplace=True)"
   ]
  },
  {
   "cell_type": "code",
   "execution_count": 115,
   "metadata": {},
   "outputs": [],
   "source": [
    "train[\"extra_people\"]=train[\"extra_people\"].apply(lambda x :x[1:])"
   ]
  },
  {
   "cell_type": "code",
   "execution_count": 116,
   "metadata": {},
   "outputs": [],
   "source": [
    "train[\"extra_people\"]=train[\"extra_people\"].astype(float)"
   ]
  },
  {
   "cell_type": "code",
   "execution_count": 117,
   "metadata": {},
   "outputs": [],
   "source": [
    "train=pd.concat([pd.get_dummies(train[\"require_guest_phone_verification\"],prefix=\"phone_verif\"),train],axis=1)"
   ]
  },
  {
   "cell_type": "code",
   "execution_count": 118,
   "metadata": {},
   "outputs": [],
   "source": [
    "train.drop(labels=\"require_guest_phone_verification\",axis=1,inplace=True)"
   ]
  },
  {
   "cell_type": "code",
   "execution_count": 119,
   "metadata": {},
   "outputs": [],
   "source": [
    "train=pd.concat([pd.get_dummies(train[\"require_guest_profile_picture\"],prefix=\"profile_picc\"),train],axis=1)"
   ]
  },
  {
   "cell_type": "code",
   "execution_count": 120,
   "metadata": {},
   "outputs": [],
   "source": [
    "train.drop(labels=\"require_guest_profile_picture\",axis=1,inplace=True)"
   ]
  },
  {
   "cell_type": "code",
   "execution_count": 121,
   "metadata": {},
   "outputs": [],
   "source": [
    "train.drop(labels=\"calendar_updated\",axis=1,inplace=True)"
   ]
  },
  {
   "cell_type": "code",
   "execution_count": 122,
   "metadata": {},
   "outputs": [],
   "source": [
    "train.drop(labels=\"cleaning_fee\",axis=1,inplace=True)"
   ]
  },
  {
   "cell_type": "code",
   "execution_count": 123,
   "metadata": {},
   "outputs": [],
   "source": [
    "data=pd.read_csv(\"train.csv\")"
   ]
  },
  {
   "cell_type": "code",
   "execution_count": 124,
   "metadata": {},
   "outputs": [],
   "source": [
    "y=train[\"price\"]"
   ]
  },
  {
   "cell_type": "code",
   "execution_count": 125,
   "metadata": {},
   "outputs": [
    {
     "data": {
      "text/html": [
       "<div>\n",
       "<style scoped>\n",
       "    .dataframe tbody tr th:only-of-type {\n",
       "        vertical-align: middle;\n",
       "    }\n",
       "\n",
       "    .dataframe tbody tr th {\n",
       "        vertical-align: top;\n",
       "    }\n",
       "\n",
       "    .dataframe thead th {\n",
       "        text-align: right;\n",
       "    }\n",
       "</style>\n",
       "<table border=\"1\" class=\"dataframe\">\n",
       "  <thead>\n",
       "    <tr style=\"text-align: right;\">\n",
       "      <th></th>\n",
       "      <th>0</th>\n",
       "      <th>host_since</th>\n",
       "      <th>host_response_time</th>\n",
       "      <th>host_response_rate</th>\n",
       "      <th>host_acceptance_rate</th>\n",
       "      <th>host_is_superhost</th>\n",
       "      <th>host_total_listings_count</th>\n",
       "      <th>host_verifications</th>\n",
       "      <th>host_has_profile_pic</th>\n",
       "      <th>host_identity_verified</th>\n",
       "      <th>...</th>\n",
       "      <th>review_scores_location</th>\n",
       "      <th>review_scores_value</th>\n",
       "      <th>instant_bookable</th>\n",
       "      <th>cancellation_policy</th>\n",
       "      <th>require_guest_profile_picture</th>\n",
       "      <th>require_guest_phone_verification</th>\n",
       "      <th>reviews_per_month</th>\n",
       "      <th>price</th>\n",
       "      <th>guests_included</th>\n",
       "      <th>extra_people</th>\n",
       "    </tr>\n",
       "  </thead>\n",
       "  <tbody>\n",
       "    <tr>\n",
       "      <th>0</th>\n",
       "      <td>1</td>\n",
       "      <td>2011-03-09</td>\n",
       "      <td>NaN</td>\n",
       "      <td>NaN</td>\n",
       "      <td>NaN</td>\n",
       "      <td>f</td>\n",
       "      <td>1.0</td>\n",
       "      <td>['email', 'phone', 'facebook', 'reviews', 'kba']</td>\n",
       "      <td>t</td>\n",
       "      <td>t</td>\n",
       "      <td>...</td>\n",
       "      <td>10.0</td>\n",
       "      <td>10.0</td>\n",
       "      <td>f</td>\n",
       "      <td>moderate</td>\n",
       "      <td>f</td>\n",
       "      <td>f</td>\n",
       "      <td>0.09</td>\n",
       "      <td>$175.00</td>\n",
       "      <td>1</td>\n",
       "      <td>$0.00</td>\n",
       "    </tr>\n",
       "    <tr>\n",
       "      <th>1</th>\n",
       "      <td>2</td>\n",
       "      <td>2013-11-17</td>\n",
       "      <td>NaN</td>\n",
       "      <td>NaN</td>\n",
       "      <td>NaN</td>\n",
       "      <td>f</td>\n",
       "      <td>1.0</td>\n",
       "      <td>['email', 'phone', 'facebook', 'reviews', 'jum...</td>\n",
       "      <td>t</td>\n",
       "      <td>t</td>\n",
       "      <td>...</td>\n",
       "      <td>NaN</td>\n",
       "      <td>NaN</td>\n",
       "      <td>f</td>\n",
       "      <td>moderate</td>\n",
       "      <td>f</td>\n",
       "      <td>f</td>\n",
       "      <td>NaN</td>\n",
       "      <td>$50.00</td>\n",
       "      <td>1</td>\n",
       "      <td>$0.00</td>\n",
       "    </tr>\n",
       "    <tr>\n",
       "      <th>2</th>\n",
       "      <td>3</td>\n",
       "      <td>2012-12-06</td>\n",
       "      <td>within an hour</td>\n",
       "      <td>98%</td>\n",
       "      <td>100%</td>\n",
       "      <td>f</td>\n",
       "      <td>7.0</td>\n",
       "      <td>['email', 'phone', 'google', 'linkedin', 'revi...</td>\n",
       "      <td>t</td>\n",
       "      <td>t</td>\n",
       "      <td>...</td>\n",
       "      <td>9.0</td>\n",
       "      <td>9.0</td>\n",
       "      <td>t</td>\n",
       "      <td>strict</td>\n",
       "      <td>f</td>\n",
       "      <td>f</td>\n",
       "      <td>0.84</td>\n",
       "      <td>$28.00</td>\n",
       "      <td>1</td>\n",
       "      <td>$0.00</td>\n",
       "    </tr>\n",
       "    <tr>\n",
       "      <th>3</th>\n",
       "      <td>4</td>\n",
       "      <td>2014-01-10</td>\n",
       "      <td>within an hour</td>\n",
       "      <td>100%</td>\n",
       "      <td>100%</td>\n",
       "      <td>t</td>\n",
       "      <td>1.0</td>\n",
       "      <td>['email', 'phone', 'reviews', 'kba']</td>\n",
       "      <td>t</td>\n",
       "      <td>t</td>\n",
       "      <td>...</td>\n",
       "      <td>9.0</td>\n",
       "      <td>10.0</td>\n",
       "      <td>f</td>\n",
       "      <td>moderate</td>\n",
       "      <td>f</td>\n",
       "      <td>f</td>\n",
       "      <td>2.39</td>\n",
       "      <td>$90.00</td>\n",
       "      <td>2</td>\n",
       "      <td>$0.00</td>\n",
       "    </tr>\n",
       "    <tr>\n",
       "      <th>4</th>\n",
       "      <td>5</td>\n",
       "      <td>2013-05-14</td>\n",
       "      <td>within an hour</td>\n",
       "      <td>100%</td>\n",
       "      <td>33%</td>\n",
       "      <td>f</td>\n",
       "      <td>1.0</td>\n",
       "      <td>['email', 'phone', 'facebook', 'reviews', 'man...</td>\n",
       "      <td>t</td>\n",
       "      <td>t</td>\n",
       "      <td>...</td>\n",
       "      <td>NaN</td>\n",
       "      <td>NaN</td>\n",
       "      <td>t</td>\n",
       "      <td>flexible</td>\n",
       "      <td>f</td>\n",
       "      <td>f</td>\n",
       "      <td>NaN</td>\n",
       "      <td>$108.00</td>\n",
       "      <td>1</td>\n",
       "      <td>$0.00</td>\n",
       "    </tr>\n",
       "  </tbody>\n",
       "</table>\n",
       "<p>5 rows × 54 columns</p>\n",
       "</div>"
      ],
      "text/plain": [
       "   0  host_since host_response_time host_response_rate host_acceptance_rate  \\\n",
       "0  1  2011-03-09                NaN                NaN                  NaN   \n",
       "1  2  2013-11-17                NaN                NaN                  NaN   \n",
       "2  3  2012-12-06     within an hour                98%                 100%   \n",
       "3  4  2014-01-10     within an hour               100%                 100%   \n",
       "4  5  2013-05-14     within an hour               100%                  33%   \n",
       "\n",
       "  host_is_superhost  host_total_listings_count  \\\n",
       "0                 f                        1.0   \n",
       "1                 f                        1.0   \n",
       "2                 f                        7.0   \n",
       "3                 t                        1.0   \n",
       "4                 f                        1.0   \n",
       "\n",
       "                                  host_verifications host_has_profile_pic  \\\n",
       "0   ['email', 'phone', 'facebook', 'reviews', 'kba']                    t   \n",
       "1  ['email', 'phone', 'facebook', 'reviews', 'jum...                    t   \n",
       "2  ['email', 'phone', 'google', 'linkedin', 'revi...                    t   \n",
       "3               ['email', 'phone', 'reviews', 'kba']                    t   \n",
       "4  ['email', 'phone', 'facebook', 'reviews', 'man...                    t   \n",
       "\n",
       "  host_identity_verified  ... review_scores_location review_scores_value  \\\n",
       "0                      t  ...                   10.0                10.0   \n",
       "1                      t  ...                    NaN                 NaN   \n",
       "2                      t  ...                    9.0                 9.0   \n",
       "3                      t  ...                    9.0                10.0   \n",
       "4                      t  ...                    NaN                 NaN   \n",
       "\n",
       "  instant_bookable cancellation_policy require_guest_profile_picture  \\\n",
       "0                f            moderate                             f   \n",
       "1                f            moderate                             f   \n",
       "2                t              strict                             f   \n",
       "3                f            moderate                             f   \n",
       "4                t            flexible                             f   \n",
       "\n",
       "  require_guest_phone_verification reviews_per_month    price  \\\n",
       "0                                f              0.09  $175.00   \n",
       "1                                f               NaN   $50.00   \n",
       "2                                f              0.84   $28.00   \n",
       "3                                f              2.39   $90.00   \n",
       "4                                f               NaN  $108.00   \n",
       "\n",
       "   guests_included  extra_people  \n",
       "0                1         $0.00  \n",
       "1                1         $0.00  \n",
       "2                1         $0.00  \n",
       "3                2         $0.00  \n",
       "4                1         $0.00  \n",
       "\n",
       "[5 rows x 54 columns]"
      ]
     },
     "execution_count": 125,
     "metadata": {},
     "output_type": "execute_result"
    }
   ],
   "source": [
    "data.head()"
   ]
  },
  {
   "cell_type": "code",
   "execution_count": 126,
   "metadata": {},
   "outputs": [],
   "source": [
    "features=train.drop([\"guests_included\",\"extra_people\",\"price\"],1)"
   ]
  },
  {
   "cell_type": "code",
   "execution_count": 127,
   "metadata": {},
   "outputs": [],
   "source": [
    "from sklearn.model_selection import train_test_split\n",
    "X_train, X_test, y_train, y_test = train_test_split(features,y, test_size=0.2, random_state=0)"
   ]
  },
  {
   "cell_type": "code",
   "execution_count": 128,
   "metadata": {},
   "outputs": [],
   "source": [
    "from sklearn.linear_model import ElasticNet"
   ]
  },
  {
   "cell_type": "code",
   "execution_count": 130,
   "metadata": {},
   "outputs": [
    {
     "ename": "MemoryError",
     "evalue": "",
     "output_type": "error",
     "traceback": [
      "\u001b[1;31m---------------------------------------------------------------------------\u001b[0m",
      "\u001b[1;31mMemoryError\u001b[0m                               Traceback (most recent call last)",
      "\u001b[1;32m<ipython-input-130-07e4b530ec6e>\u001b[0m in \u001b[0;36m<module>\u001b[1;34m\u001b[0m\n\u001b[0;32m      1\u001b[0m \u001b[1;32mfrom\u001b[0m \u001b[0msklearn\u001b[0m\u001b[1;33m.\u001b[0m\u001b[0mpreprocessing\u001b[0m \u001b[1;32mimport\u001b[0m \u001b[0mPolynomialFeatures\u001b[0m\u001b[1;33m\u001b[0m\u001b[1;33m\u001b[0m\u001b[0m\n\u001b[0;32m      2\u001b[0m \u001b[0mpoly\u001b[0m \u001b[1;33m=\u001b[0m \u001b[0mPolynomialFeatures\u001b[0m\u001b[1;33m(\u001b[0m\u001b[0mdegree\u001b[0m \u001b[1;33m=\u001b[0m \u001b[1;36m2\u001b[0m\u001b[1;33m,\u001b[0m \u001b[0minteraction_only\u001b[0m\u001b[1;33m=\u001b[0m\u001b[1;32mTrue\u001b[0m\u001b[1;33m)\u001b[0m\u001b[1;33m\u001b[0m\u001b[1;33m\u001b[0m\u001b[0m\n\u001b[1;32m----> 3\u001b[1;33m \u001b[0mX_poly\u001b[0m \u001b[1;33m=\u001b[0m \u001b[0mpoly\u001b[0m\u001b[1;33m.\u001b[0m\u001b[0mfit_transform\u001b[0m\u001b[1;33m(\u001b[0m\u001b[0mfeatures\u001b[0m\u001b[1;33m)\u001b[0m\u001b[1;33m\u001b[0m\u001b[1;33m\u001b[0m\u001b[0m\n\u001b[0m\u001b[0;32m      4\u001b[0m \u001b[0mX_train\u001b[0m\u001b[1;33m,\u001b[0m \u001b[0mX_test\u001b[0m\u001b[1;33m,\u001b[0m \u001b[0my_train\u001b[0m\u001b[1;33m,\u001b[0m \u001b[0my_test\u001b[0m \u001b[1;33m=\u001b[0m \u001b[0mtrain_test_split\u001b[0m\u001b[1;33m(\u001b[0m\u001b[0mX_poly\u001b[0m\u001b[1;33m,\u001b[0m\u001b[0my\u001b[0m\u001b[1;33m,\u001b[0m \u001b[0mtest_size\u001b[0m\u001b[1;33m=\u001b[0m\u001b[1;36m0.30\u001b[0m\u001b[1;33m,\u001b[0m \u001b[0mrandom_state\u001b[0m\u001b[1;33m=\u001b[0m\u001b[1;36m1\u001b[0m\u001b[1;33m)\u001b[0m\u001b[1;33m\u001b[0m\u001b[1;33m\u001b[0m\u001b[0m\n\u001b[0;32m      5\u001b[0m \u001b[0mX_train\u001b[0m\u001b[1;33m.\u001b[0m\u001b[0mshape\u001b[0m\u001b[1;33m\u001b[0m\u001b[1;33m\u001b[0m\u001b[0m\n",
      "\u001b[1;32m~\\Anaconda3\\envs\\sreekarr\\lib\\site-packages\\sklearn\\base.py\u001b[0m in \u001b[0;36mfit_transform\u001b[1;34m(self, X, y, **fit_params)\u001b[0m\n\u001b[0;32m    551\u001b[0m         \u001b[1;32mif\u001b[0m \u001b[0my\u001b[0m \u001b[1;32mis\u001b[0m \u001b[1;32mNone\u001b[0m\u001b[1;33m:\u001b[0m\u001b[1;33m\u001b[0m\u001b[1;33m\u001b[0m\u001b[0m\n\u001b[0;32m    552\u001b[0m             \u001b[1;31m# fit method of arity 1 (unsupervised transformation)\u001b[0m\u001b[1;33m\u001b[0m\u001b[1;33m\u001b[0m\u001b[1;33m\u001b[0m\u001b[0m\n\u001b[1;32m--> 553\u001b[1;33m             \u001b[1;32mreturn\u001b[0m \u001b[0mself\u001b[0m\u001b[1;33m.\u001b[0m\u001b[0mfit\u001b[0m\u001b[1;33m(\u001b[0m\u001b[0mX\u001b[0m\u001b[1;33m,\u001b[0m \u001b[1;33m**\u001b[0m\u001b[0mfit_params\u001b[0m\u001b[1;33m)\u001b[0m\u001b[1;33m.\u001b[0m\u001b[0mtransform\u001b[0m\u001b[1;33m(\u001b[0m\u001b[0mX\u001b[0m\u001b[1;33m)\u001b[0m\u001b[1;33m\u001b[0m\u001b[1;33m\u001b[0m\u001b[0m\n\u001b[0m\u001b[0;32m    554\u001b[0m         \u001b[1;32melse\u001b[0m\u001b[1;33m:\u001b[0m\u001b[1;33m\u001b[0m\u001b[1;33m\u001b[0m\u001b[0m\n\u001b[0;32m    555\u001b[0m             \u001b[1;31m# fit method of arity 2 (supervised transformation)\u001b[0m\u001b[1;33m\u001b[0m\u001b[1;33m\u001b[0m\u001b[1;33m\u001b[0m\u001b[0m\n",
      "\u001b[1;32m~\\Anaconda3\\envs\\sreekarr\\lib\\site-packages\\sklearn\\preprocessing\\data.py\u001b[0m in \u001b[0;36mtransform\u001b[1;34m(self, X)\u001b[0m\n\u001b[0;32m   1544\u001b[0m             \u001b[1;32melse\u001b[0m\u001b[1;33m:\u001b[0m\u001b[1;33m\u001b[0m\u001b[1;33m\u001b[0m\u001b[0m\n\u001b[0;32m   1545\u001b[0m                 XP = np.empty((n_samples, self.n_output_features_),\n\u001b[1;32m-> 1546\u001b[1;33m                               dtype=X.dtype, order=self.order)\n\u001b[0m\u001b[0;32m   1547\u001b[0m                 \u001b[1;32mfor\u001b[0m \u001b[0mi\u001b[0m\u001b[1;33m,\u001b[0m \u001b[0mcomb\u001b[0m \u001b[1;32min\u001b[0m \u001b[0menumerate\u001b[0m\u001b[1;33m(\u001b[0m\u001b[0mcombinations\u001b[0m\u001b[1;33m)\u001b[0m\u001b[1;33m:\u001b[0m\u001b[1;33m\u001b[0m\u001b[1;33m\u001b[0m\u001b[0m\n\u001b[0;32m   1548\u001b[0m                     \u001b[0mXP\u001b[0m\u001b[1;33m[\u001b[0m\u001b[1;33m:\u001b[0m\u001b[1;33m,\u001b[0m \u001b[0mi\u001b[0m\u001b[1;33m]\u001b[0m \u001b[1;33m=\u001b[0m \u001b[0mX\u001b[0m\u001b[1;33m[\u001b[0m\u001b[1;33m:\u001b[0m\u001b[1;33m,\u001b[0m \u001b[0mcomb\u001b[0m\u001b[1;33m]\u001b[0m\u001b[1;33m.\u001b[0m\u001b[0mprod\u001b[0m\u001b[1;33m(\u001b[0m\u001b[1;36m1\u001b[0m\u001b[1;33m)\u001b[0m\u001b[1;33m\u001b[0m\u001b[1;33m\u001b[0m\u001b[0m\n",
      "\u001b[1;31mMemoryError\u001b[0m: "
     ]
    }
   ],
   "source": [
    "from sklearn.preprocessing import PolynomialFeatures\n",
    "poly = PolynomialFeatures(degree = 2, interaction_only=True)\n",
    "X_poly = poly.fit_transform(features)\n",
    "X_train, X_test, y_train, y_test = train_test_split(X_poly,y, test_size=0.30, random_state=1)\n",
    "X_train.shape"
   ]
  },
  {
   "cell_type": "code",
   "execution_count": 140,
   "metadata": {},
   "outputs": [],
   "source": [
    "regression3=ElasticNet()\n",
    "regression3.fit(X_train,y_train)\n",
    "y_pred_elasticnet=regression3.predict(X_test)"
   ]
  },
  {
   "cell_type": "code",
   "execution_count": 141,
   "metadata": {},
   "outputs": [],
   "source": [
    "from sklearn.metrics import mean_squared_error"
   ]
  },
  {
   "cell_type": "code",
   "execution_count": 142,
   "metadata": {},
   "outputs": [
    {
     "data": {
      "text/plain": [
       "233.57137288091752"
      ]
     },
     "execution_count": 142,
     "metadata": {},
     "output_type": "execute_result"
    }
   ],
   "source": [
    "np.sqrt(mean_squared_error(y_test,y_pred_elasticnet))"
   ]
  },
  {
   "cell_type": "code",
   "execution_count": 143,
   "metadata": {},
   "outputs": [
    {
     "data": {
      "text/plain": [
       "0.09634714988143889"
      ]
     },
     "execution_count": 143,
     "metadata": {},
     "output_type": "execute_result"
    }
   ],
   "source": [
    "regression3.score(X_test,y_test)"
   ]
  },
  {
   "cell_type": "code",
   "execution_count": 644,
   "metadata": {},
   "outputs": [],
   "source": [
    "from sklearn.linear_model import LinearRegression\n",
    "from sklearn.linear_model import Ridge\n",
    "from sklearn.linear_model import Lasso\n",
    "from sklearn.metrics import r2_score"
   ]
  },
  {
   "cell_type": "code",
   "execution_count": 645,
   "metadata": {},
   "outputs": [
    {
     "data": {
      "text/plain": [
       "Lasso(alpha=0.1, copy_X=True, fit_intercept=True, max_iter=1000,\n",
       "      normalize=False, positive=False, precompute=False, random_state=None,\n",
       "      selection='cyclic', tol=0.0001, warm_start=False)"
      ]
     },
     "execution_count": 645,
     "metadata": {},
     "output_type": "execute_result"
    }
   ],
   "source": [
    "lasso = Lasso(alpha=0.1)\n",
    "lasso.fit(X_train,y_train)\n",
    "#print (\"Lasso model:\", (lasso.coef_))"
   ]
  },
  {
   "cell_type": "code",
   "execution_count": 646,
   "metadata": {},
   "outputs": [
    {
     "data": {
      "text/plain": [
       "0.21814719281286707"
      ]
     },
     "execution_count": 646,
     "metadata": {},
     "output_type": "execute_result"
    }
   ],
   "source": [
    "lasso.score(X_test,y_test)"
   ]
  },
  {
   "cell_type": "code",
   "execution_count": 647,
   "metadata": {},
   "outputs": [],
   "source": [
    " y_guests=data[\"guests_included\"]"
   ]
  },
  {
   "cell_type": "code",
   "execution_count": 648,
   "metadata": {},
   "outputs": [],
   "source": [
    "features=train.drop([\"price\",\"extra_people\",\"guests_included\"],1)"
   ]
  },
  {
   "cell_type": "code",
   "execution_count": 649,
   "metadata": {},
   "outputs": [],
   "source": [
    "from sklearn.model_selection import train_test_split\n",
    "X_train, X_test, y_train, y_test = train_test_split(features,y_guests,test_size=0.2, random_state=0)"
   ]
  },
  {
   "cell_type": "code",
   "execution_count": 650,
   "metadata": {},
   "outputs": [],
   "source": [
    "from sklearn.linear_model import LogisticRegression\n",
    "logreg = LogisticRegression()"
   ]
  },
  {
   "cell_type": "code",
   "execution_count": 651,
   "metadata": {},
   "outputs": [
    {
     "name": "stderr",
     "output_type": "stream",
     "text": [
      "C:\\Users\\sreekar chidurala\\Anaconda3\\envs\\sreekarr\\lib\\site-packages\\sklearn\\linear_model\\logistic.py:432: FutureWarning: Default solver will be changed to 'lbfgs' in 0.22. Specify a solver to silence this warning.\n",
      "  FutureWarning)\n",
      "C:\\Users\\sreekar chidurala\\Anaconda3\\envs\\sreekarr\\lib\\site-packages\\sklearn\\linear_model\\logistic.py:469: FutureWarning: Default multi_class will be changed to 'auto' in 0.22. Specify the multi_class option to silence this warning.\n",
      "  \"this warning.\", FutureWarning)\n"
     ]
    },
    {
     "data": {
      "text/plain": [
       "LogisticRegression(C=1.0, class_weight=None, dual=False, fit_intercept=True,\n",
       "                   intercept_scaling=1, l1_ratio=None, max_iter=100,\n",
       "                   multi_class='warn', n_jobs=None, penalty='l2',\n",
       "                   random_state=None, solver='warn', tol=0.0001, verbose=0,\n",
       "                   warm_start=False)"
      ]
     },
     "execution_count": 651,
     "metadata": {},
     "output_type": "execute_result"
    }
   ],
   "source": [
    "logreg.fit(X_train,y_train)"
   ]
  },
  {
   "cell_type": "code",
   "execution_count": 652,
   "metadata": {},
   "outputs": [
    {
     "data": {
      "text/plain": [
       "0.7243333333333334"
      ]
     },
     "execution_count": 652,
     "metadata": {},
     "output_type": "execute_result"
    }
   ],
   "source": [
    "logreg.score(X_test,y_test)"
   ]
  },
  {
   "cell_type": "code",
   "execution_count": null,
   "metadata": {},
   "outputs": [],
   "source": []
  },
  {
   "cell_type": "code",
   "execution_count": 653,
   "metadata": {},
   "outputs": [],
   "source": [
    "data[\"extra_people\"]=data[\"extra_people\"].astype(str)"
   ]
  },
  {
   "cell_type": "code",
   "execution_count": 654,
   "metadata": {},
   "outputs": [],
   "source": [
    "data[\"extra_people\"]=data[\"extra_people\"].apply(lambda x : x.replace(\"$\",\"\"))"
   ]
  },
  {
   "cell_type": "code",
   "execution_count": 655,
   "metadata": {},
   "outputs": [],
   "source": [
    "data[\"extra_people\"]=data[\"extra_people\"].astype(float)"
   ]
  },
  {
   "cell_type": "code",
   "execution_count": 656,
   "metadata": {},
   "outputs": [],
   "source": [
    "y_extra=data[\"extra_people\"]"
   ]
  },
  {
   "cell_type": "code",
   "execution_count": 657,
   "metadata": {},
   "outputs": [],
   "source": [
    "features=train.drop([\"price\",\"guests_included\",\"extra_people\"],1)"
   ]
  },
  {
   "cell_type": "code",
   "execution_count": 658,
   "metadata": {},
   "outputs": [],
   "source": [
    "from sklearn.model_selection import train_test_split\n",
    "X_train, X_test, y_train, y_test = train_test_split(features,y_extra,test_size=0.2, random_state=0)"
   ]
  },
  {
   "cell_type": "code",
   "execution_count": 665,
   "metadata": {},
   "outputs": [
    {
     "data": {
      "text/plain": [
       "Lasso(alpha=0.1, copy_X=True, fit_intercept=True, max_iter=1000,\n",
       "      normalize=False, positive=False, precompute=False, random_state=None,\n",
       "      selection='cyclic', tol=0.0001, warm_start=False)"
      ]
     },
     "execution_count": 665,
     "metadata": {},
     "output_type": "execute_result"
    }
   ],
   "source": [
    "lasso = Lasso(alpha=0.1)\n",
    "lasso.fit(X_train,y_train)"
   ]
  },
  {
   "cell_type": "code",
   "execution_count": 666,
   "metadata": {},
   "outputs": [
    {
     "data": {
      "text/plain": [
       "0.07027129817537003"
      ]
     },
     "execution_count": 666,
     "metadata": {},
     "output_type": "execute_result"
    }
   ],
   "source": [
    "lasso.score(X_test,y_test)"
   ]
  },
  {
   "cell_type": "code",
   "execution_count": null,
   "metadata": {},
   "outputs": [],
   "source": []
  },
  {
   "cell_type": "code",
   "execution_count": 455,
   "metadata": {},
   "outputs": [],
   "source": [
    "#train.dtypes[540:600]"
   ]
  },
  {
   "cell_type": "code",
   "execution_count": 416,
   "metadata": {},
   "outputs": [
    {
     "data": {
      "text/plain": [
       "review_scores_cleanliness           0\n",
       "review_scores_checkin               0\n",
       "review_scores_communication         0\n",
       "review_scores_location              0\n",
       "review_scores_value                 0\n",
       "require_guest_profile_picture       0\n",
       "require_guest_phone_verification    0\n",
       "price                               0\n",
       "guests_included                     0\n",
       "extra_people                        0\n",
       "facebook_veri                       0\n",
       "kba_veri                            0\n",
       "phone_veri                          0\n",
       "email_veri                          0\n",
       "reviews_veri                        0\n",
       "manual_veri                         0\n",
       "google_veri                         0\n",
       "amex_veri                           0\n",
       "tv                                  0\n",
       "internet                            0\n",
       "wireless_internet                   0\n",
       "elevetro                            0\n",
       "heater                              0\n",
       "Kitechen                            0\n",
       "AC                                  0\n",
       "smoke_detect                        0\n",
       "washer                              0\n",
       "dryerr                              0\n",
       "laptop_space                        0\n",
       "dtype: int64"
      ]
     },
     "execution_count": 416,
     "metadata": {},
     "output_type": "execute_result"
    }
   ],
   "source": [
    "train.isnull().sum()[600:]"
   ]
  },
  {
   "cell_type": "code",
   "execution_count": null,
   "metadata": {},
   "outputs": [],
   "source": []
  },
  {
   "cell_type": "code",
   "execution_count": null,
   "metadata": {},
   "outputs": [],
   "source": []
  },
  {
   "cell_type": "code",
   "execution_count": 136,
   "metadata": {},
   "outputs": [
    {
     "data": {
      "text/plain": [
       "t    29915\n",
       "f       82\n",
       "Name: host_has_profile_pic, dtype: int64"
      ]
     },
     "execution_count": 136,
     "metadata": {},
     "output_type": "execute_result"
    }
   ],
   "source": [
    "train[\"host_has_profile_pic\"].value_counts()"
   ]
  },
  {
   "cell_type": "code",
   "execution_count": 138,
   "metadata": {},
   "outputs": [
    {
     "data": {
      "text/plain": [
       "t    20116\n",
       "f     9881\n",
       "Name: host_identity_verified, dtype: int64"
      ]
     },
     "execution_count": 138,
     "metadata": {},
     "output_type": "execute_result"
    }
   ],
   "source": [
    "train[\"host_identity_verified\"].value_counts()"
   ]
  },
  {
   "cell_type": "code",
   "execution_count": null,
   "metadata": {},
   "outputs": [],
   "source": []
  }
 ],
 "metadata": {
  "kernelspec": {
   "display_name": "Python 3",
   "language": "python",
   "name": "python3"
  },
  "language_info": {
   "codemirror_mode": {
    "name": "ipython",
    "version": 3
   },
   "file_extension": ".py",
   "mimetype": "text/x-python",
   "name": "python",
   "nbconvert_exporter": "python",
   "pygments_lexer": "ipython3",
   "version": "3.7.3"
  }
 },
 "nbformat": 4,
 "nbformat_minor": 2
}
